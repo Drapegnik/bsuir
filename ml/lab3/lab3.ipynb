{
 "cells": [
  {
   "cell_type": "markdown",
   "metadata": {},
   "source": [
    "# ml lab3"
   ]
  },
  {
   "cell_type": "code",
   "execution_count": 1,
   "metadata": {},
   "outputs": [],
   "source": [
    "import numpy as np\n",
    "import pandas as pd\n",
    "import matplotlib.pyplot as plt\n",
    "import scipy.io"
   ]
  },
  {
   "cell_type": "markdown",
   "metadata": {},
   "source": [
    "### 1. read data"
   ]
  },
  {
   "cell_type": "code",
   "execution_count": 52,
   "metadata": {},
   "outputs": [],
   "source": [
    "data = scipy.io.loadmat('data/ex3data1.mat')\n",
    "x = np.array(data['X'])\n",
    "y = np.squeeze(data['y'])\n",
    "X = np.insert(x, 0, 1, axis=1)"
   ]
  },
  {
   "cell_type": "markdown",
   "metadata": {},
   "source": [
    "### 2. plot data"
   ]
  },
  {
   "cell_type": "code",
   "execution_count": 53,
   "metadata": {},
   "outputs": [
    {
     "data": {
      "image/png": "[encoded data removed]",
      "text/plain": [
       "<Figure size 432x288 with 1 Axes>"
      ]
     },
     "metadata": {
      "needs_background": "light"
     },
     "output_type": "display_data"
    }
   ],
   "source": [
    "plt.figure()\n",
    "plt.scatter(x.flatten(), y)\n",
    "plt.xlabel('x')\n",
    "plt.ylabel('y')\n",
    "plt.show()"
   ]
  },
  {
   "cell_type": "markdown",
   "metadata": {},
   "source": [
    "### 3. cost function + L2 regularization"
   ]
  },
  {
   "cell_type": "code",
   "execution_count": 54,
   "metadata": {},
   "outputs": [],
   "source": [
    "def compute_cost_reg(X, y, theta, l=1):\n",
    "    m = y.size\n",
    "    h = X.dot(theta)\n",
    "    error = h - y\n",
    "    cost = np.sum(error ** 2) / (2 * m) + (l / (2 * m)) * np.sum(np.square(theta))\n",
    "    return cost, error\n",
    "\n",
    "def get_init_theta(_X=X):\n",
    "    return np.zeros(_X.shape[1])"
   ]
  },
  {
   "cell_type": "code",
   "execution_count": 55,
   "metadata": {},
   "outputs": [
    {
     "name": "stdout",
     "output_type": "stream",
     "text": [
      "Initial Cost:\t140.95412088055392\n"
     ]
    }
   ],
   "source": [
    "cost, _ = compute_cost_reg(X, y, get_init_theta())\n",
    "print(f'Initial Cost:\\t{cost}')"
   ]
  },
  {
   "cell_type": "markdown",
   "metadata": {},
   "source": [
    "### 4. gradient descent + L2 regularization"
   ]
  },
  {
   "cell_type": "code",
   "execution_count": 56,
   "metadata": {},
   "outputs": [],
   "source": [
    "def gradient_descent_reg(X, y, theta, l=1, alpha=0.0022, num_iters=1000):\n",
    "    m = y.size\n",
    "    j_history = []\n",
    "    XT = X.T\n",
    "    for i in range(0, num_iters):\n",
    "        cost, error = compute_cost_reg(X, y, theta, l)\n",
    "        gradient = (XT.dot(error) + l * theta) / m\n",
    "        theta -= alpha * gradient\n",
    "        j_history.append(cost)\n",
    "\n",
    "    return theta, j_history"
   ]
  },
  {
   "cell_type": "code",
   "execution_count": 57,
   "metadata": {},
   "outputs": [
    {
     "name": "stdout",
     "output_type": "stream",
     "text": [
      "Cost:\t29.695375543493448\n",
      "theta:\t[10.86601315  0.35442522]\n"
     ]
    }
   ],
   "source": [
    "theta, costs = gradient_descent_reg(X, y, get_init_theta())\n",
    "print(f'Cost:\\t{costs[-1]}\\ntheta:\\t{theta}')"
   ]
  },
  {
   "cell_type": "markdown",
   "metadata": {},
   "source": [
    "### 5. linear regression with λ=0"
   ]
  },
  {
   "cell_type": "markdown",
   "metadata": {},
   "source": [
    "> При λ=0 регуляризация не производится"
   ]
  },
  {
   "cell_type": "code",
   "execution_count": 58,
   "metadata": {},
   "outputs": [
    {
     "data": {
      "image/png": "[encoded data removed]",
      "text/plain": [
       "<Figure size 432x288 with 1 Axes>"
      ]
     },
     "metadata": {
      "needs_background": "light"
     },
     "output_type": "display_data"
    }
   ],
   "source": [
    "theta, _ = gradient_descent_reg(X, y, get_init_theta(), l=0)\n",
    "h = X.dot(theta)\n",
    "\n",
    "plt.figure()\n",
    "plt.scatter(x.flatten(), y, label='Dataset')\n",
    "plt.plot(x.flatten(), h, label='H(x)', c='red')\n",
    "plt.xlabel('x')\n",
    "plt.ylabel('y')\n",
    "plt.legend()\n",
    "plt.show()"
   ]
  },
  {
   "cell_type": "markdown",
   "metadata": {},
   "source": [
    "### 6. learning curves"
   ]
  },
  {
   "cell_type": "code",
   "execution_count": 59,
   "metadata": {},
   "outputs": [],
   "source": [
    "def train(x_train, x_val, y_train, y_val):\n",
    "    X = np.insert(x_train, 0, 1, axis=1)\n",
    "    \n",
    "    theta, train_costs = gradient_descent_reg(X, y_train, get_init_theta(), l=0, alpha=0.0005)\n",
    "    \n",
    "    X_val = np.insert(x_val, 0, 1, axis=1)\n",
    "    val_cost = compute_cost_reg(X_val, y_val, theta, l=0)\n",
    "    \n",
    "    return train_costs[-1], val_cost[0]\n",
    "\n",
    "\n",
    "def plot_learning_curves(x_train, x_val, y_train, y_val):\n",
    "    m, n = x_train.shape\n",
    "    \n",
    "    train_costs = []\n",
    "    val_costs = []\n",
    "    for size in range(4 , m):\n",
    "        idx = range(0, size)\n",
    "        t, v = train(x_train[idx,:], x_val[idx,:], y_train[idx], y_val[idx])\n",
    "        train_costs.append(t)\n",
    "        val_costs.append(v)\n",
    "\n",
    "    plt.figure(figsize=(8, 5))\n",
    "    plt.plot(train_costs, 'b', label='Train Data')\n",
    "    plt.plot(val_costs, 'r', label='Validation Data')\n",
    "    plt.xlabel('Number of training examples')\n",
    "    plt.ylabel('Error')\n",
    "    plt.legend()\n",
    "    plt.show()"
   ]
  },
  {
   "cell_type": "code",
   "execution_count": 60,
   "metadata": {},
   "outputs": [
    {
     "data": {
      "image/png": "[encoded data removed]",
      "text/plain": [
       "<Figure size 576x360 with 1 Axes>"
      ]
     },
     "metadata": {
      "needs_background": "light"
     },
     "output_type": "display_data"
    }
   ],
   "source": [
    "x_val = data['Xval']\n",
    "y_val = np.squeeze(data['yval'])\n",
    "plot_learning_curves(x, x_val, y, y_val)"
   ]
  },
  {
   "cell_type": "markdown",
   "metadata": {},
   "source": [
    "> Из графиков видно что с увеличением размера выборки результат обучения становится точнее"
   ]
  },
  {
   "cell_type": "markdown",
   "metadata": {},
   "source": [
    "### 7. map features"
   ]
  },
  {
   "cell_type": "code",
   "execution_count": 114,
   "metadata": {},
   "outputs": [],
   "source": [
    "def map_features(x, p):\n",
    "    result = x\n",
    "    for i in range(2, p + 1):\n",
    "        r = x ** i\n",
    "        result = np.append(result, r, axis=1)\n",
    "    return result"
   ]
  },
  {
   "cell_type": "markdown",
   "metadata": {},
   "source": [
    "### 8. norimilize features"
   ]
  },
  {
   "cell_type": "code",
   "execution_count": 115,
   "metadata": {},
   "outputs": [],
   "source": [
    "def normilize_features(X):\n",
    "    norm = (X - X.mean(axis=0)) / X.std(axis=0)\n",
    "    mu = X.mean(axis=0)\n",
    "    sigma = X.std(axis=0)\n",
    "    return norm, mu, sigma"
   ]
  },
  {
   "cell_type": "markdown",
   "metadata": {},
   "source": [
    "### 9. train with λ=0 and p=8"
   ]
  },
  {
   "cell_type": "code",
   "execution_count": 116,
   "metadata": {},
   "outputs": [
    {
     "name": "stdout",
     "output_type": "stream",
     "text": [
      "Cost:\t0.25271483023922614\n",
      "theta:\t[11.21758933 12.28233889 11.38602789  3.36072468 -2.91092977 -2.33533198\n",
      " -2.43006402 -2.58595693 -1.41584622]\n"
     ]
    }
   ],
   "source": [
    "X = map_features(x, 8)\n",
    "X_norm, mu, sigma = normilize_features(X)\n",
    "X_norm = np.insert(X_norm, 0, 1, axis=1)\n",
    "theta, costs = gradient_descent_reg(X_norm, y, get_init_theta(X_norm), l=0, alpha=0.3)\n",
    "print(f'Cost:\\t{costs[-1]}\\ntheta:\\t{theta}')"
   ]
  },
  {
   "cell_type": "markdown",
   "metadata": {},
   "source": [
    "### 10. plot train"
   ]
  },
  {
   "cell_type": "code",
   "execution_count": 117,
   "metadata": {},
   "outputs": [
    {
     "data": {
      "image/png": "[encoded data removed]",
      "text/plain": [
       "<Figure size 1152x432 with 2 Axes>"
      ]
     },
     "metadata": {
      "needs_background": "light"
     },
     "output_type": "display_data"
    }
   ],
   "source": [
    "h = X_norm.dot(theta)\n",
    "new_x, new_h = zip(*sorted(zip(x.flatten(), h)))\n",
    "\n",
    "fig, axs = plt.subplots(1, 2, sharey = True, figsize=(16, 6))\n",
    "\n",
    "axs[0].set_title('Train Data & H(x)')\n",
    "axs[0].scatter(x.flatten(), y, label='Dataset')\n",
    "axs[0].plot(new_x, new_h, 'r-', label='H(x)')\n",
    "axs[0].set_xlabel('X')\n",
    "axs[0].set_ylabel('Y')\n",
    "axs[0].legend()\n",
    "\n",
    "axs[1].set_title('Lerning Curve')\n",
    "axs[1].plot(costs)\n",
    "axs[1].set_xlabel('Iterations')\n",
    "axs[1].set_ylabel('Cost')\n",
    "\n",
    "plt.show()"
   ]
  },
  {
   "cell_type": "markdown",
   "metadata": {},
   "source": [
    "> Увеличив количество входных признаков мы получили более \"гибкую\" гипотезу с помощью полиномиальной функции, которая хорошо соответсвует обучающей выборке"
   ]
  },
  {
   "cell_type": "markdown",
   "metadata": {},
   "source": [
    "### 11. plot train with λ=1 & λ=100"
   ]
  },
  {
   "cell_type": "code",
   "execution_count": 118,
   "metadata": {},
   "outputs": [],
   "source": [
    "theta1, costs1 = gradient_descent_reg(X_norm, y, get_init_theta(X_norm), l=1, alpha=0.1, num_iters=400)\n",
    "theta100, costs100 = gradient_descent_reg(X_norm, y, get_init_theta(X_norm), l=100, alpha=0.1, num_iters=400)"
   ]
  },
  {
   "cell_type": "code",
   "execution_count": 119,
   "metadata": {},
   "outputs": [
    {
     "data": {
      "text/plain": [
       "<matplotlib.legend.Legend at 0x1184c1f90>"
      ]
     },
     "execution_count": 119,
     "metadata": {},
     "output_type": "execute_result"
    },
    {
     "data": {
      "image/png": "[encoded data removed]",
      "text/plain": [
       "<Figure size 1152x432 with 2 Axes>"
      ]
     },
     "metadata": {
      "needs_background": "light"
     },
     "output_type": "display_data"
    }
   ],
   "source": [
    "h1 = X_norm.dot(theta1)\n",
    "new_x1, new_h1 = zip(*sorted(zip(x.flatten(), h1)))\n",
    "\n",
    "h100 = X_norm.dot(theta100)\n",
    "new_x100, new_h100 = zip(*sorted(zip(x.flatten(), h100)))\n",
    "\n",
    "fig, axs = plt.subplots(1, 2, sharey = True, figsize=(16, 6))\n",
    "\n",
    "axs[0].set_title('Train Data & H(x)')\n",
    "axs[0].scatter(x.flatten(), y, label='Dataset')\n",
    "axs[0].plot(new_x1, new_h1, 'r-', label='λ=1')\n",
    "axs[0].plot(new_x100, new_h100, 'g-', label='λ=100')\n",
    "axs[0].set_xlabel('X')\n",
    "axs[0].set_ylabel('Y')\n",
    "axs[0].legend()\n",
    "\n",
    "axs[1].set_title('Lerning Curve')\n",
    "axs[1].plot(costs1, 'r-', label='λ=1')\n",
    "axs[1].plot(costs100, 'g-', label='λ=100')\n",
    "axs[1].set_xlabel('Iterations')\n",
    "axs[1].set_ylabel('Costs')\n",
    "axs[1].legend()"
   ]
  },
  {
   "cell_type": "markdown",
   "metadata": {},
   "source": [
    "> λ=1 позволяет избежать переобучения, а большие значения λ приводят к недообучению"
   ]
  },
  {
   "cell_type": "markdown",
   "metadata": {},
   "source": [
    "### 12. optimal λ search"
   ]
  },
  {
   "cell_type": "code",
   "execution_count": 128,
   "metadata": {},
   "outputs": [],
   "source": [
    "def get_X(_x):\n",
    "    _X = map_features(_x, 8)\n",
    "    _X, _, _ = normilize_features(_X)\n",
    "    _X = np.insert(_X, 0, 1, axis=1)\n",
    "    return _X\n",
    "\n",
    "def optimize_lambda(x_train, x_val, y_train, y_val):\n",
    "    X_train = get_X(x_train)\n",
    "    X_val = get_X(x_val)\n",
    "    \n",
    "    l_vals = np.linspace(0, 4, 50)\n",
    "    l_costs = np.empty(shape=(0))\n",
    "    for l in l_vals:\n",
    "        theta, costs = gradient_descent_reg(X_train, y_train, get_init_theta(X_train), l=l, alpha=0.2, num_iters=1000)\n",
    "        c = compute_cost_reg(X_val, y_val, theta, l=0)\n",
    "        l_costs = np.append(l_costs, c[0])\n",
    "\n",
    "    plt.figure()\n",
    "    plt.plot(l_vals, l_costs)\n",
    "    plt.xlabel('Lambda')\n",
    "    plt.ylabel('Cost')\n",
    "    plt.show()\n",
    "\n",
    "    idx = l_costs.argmin()\n",
    "    return l_vals[idx]"
   ]
  },
  {
   "cell_type": "code",
   "execution_count": 130,
   "metadata": {},
   "outputs": [
    {
     "data": {
      "image/png": "[encoded data removed]",
      "text/plain": [
       "<Figure size 432x288 with 1 Axes>"
      ]
     },
     "metadata": {
      "needs_background": "light"
     },
     "output_type": "display_data"
    },
    {
     "name": "stdout",
     "output_type": "stream",
     "text": [
      "Optimal lambda for validation set:\t0.4897959183673469\n"
     ]
    }
   ],
   "source": [
    "optimal_l = optimize_lambda(x, x_val, y, y_val)\n",
    "print(f'Optimal lambda for validation set:\\t{optimal_l}')"
   ]
  },
  {
   "cell_type": "markdown",
   "metadata": {},
   "source": [
    "### 13. test error"
   ]
  },
  {
   "cell_type": "code",
   "execution_count": 132,
   "metadata": {},
   "outputs": [
    {
     "name": "stdout",
     "output_type": "stream",
     "text": [
      "Cost on test set: 11.585832169340758\n"
     ]
    }
   ],
   "source": [
    "x_test = np.array(data['Xtest'])\n",
    "y_test = np.squeeze(data['ytest'])\n",
    "\n",
    "X_test = get_X(x_test)\n",
    "X_train = get_X(x)\n",
    "\n",
    "theta, _ = gradient_descent_reg(X_train, y, get_init_theta(X_train), l=optimal_l, alpha=0.3, num_iters=1000)\n",
    "test_cost = compute_cost_reg(X_test, y_test, theta, l=optimal_l)\n",
    "print(f'Cost on test set: {test_cost[0]}')"
   ]
  },
  {
   "cell_type": "markdown",
   "metadata": {},
   "source": [
    "### 14. conclusions"
   ]
  },
  {
   "cell_type": "markdown",
   "metadata": {},
   "source": [
    "В данной работе был рассмотрен процесс переобучения модели, а также показано влияние на обучение регуляризацией с помощью коэффициента λ"
   ]
  },
  {
   "cell_type": "code",
   "execution_count": null,
   "metadata": {},
   "outputs": [],
   "source": []
  }
 ],
 "metadata": {
  "kernelspec": {
   "display_name": "Python 3",
   "language": "python",
   "name": "python3"
  },
  "language_info": {
   "codemirror_mode": {
    "name": "ipython",
    "version": 3
   },
   "file_extension": ".py",
   "mimetype": "text/x-python",
   "name": "python",
   "nbconvert_exporter": "python",
   "pygments_lexer": "ipython3",
   "version": "3.7.4"
  }
 },
 "nbformat": 4,
 "nbformat_minor": 2
}
