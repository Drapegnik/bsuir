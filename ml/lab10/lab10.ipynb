{
 "cells": [
  {
   "cell_type": "markdown",
   "metadata": {},
   "source": [
    "# ml lab10"
   ]
  },
  {
   "cell_type": "code",
   "execution_count": 52,
   "metadata": {},
   "outputs": [],
   "source": [
    "import numpy as np\n",
    "import matplotlib.pyplot as plt\n",
    "\n",
    "import sklearn\n",
    "import sklearn.datasets\n",
    "import sklearn.model_selection\n",
    "import sklearn.metrics\n",
    "import sklearn.tree\n",
    "import sklearn.linear_model"
   ]
  },
  {
   "cell_type": "markdown",
   "metadata": {},
   "source": [
    "### 1. get dataset from `sklearn`"
   ]
  },
  {
   "cell_type": "code",
   "execution_count": 7,
   "metadata": {},
   "outputs": [
    {
     "data": {
      "text/plain": [
       "(506, 13)"
      ]
     },
     "execution_count": 7,
     "metadata": {},
     "output_type": "execute_result"
    }
   ],
   "source": [
    "boston = sklearn.datasets.load_boston()\n",
    "boston.data.shape"
   ]
  },
  {
   "cell_type": "markdown",
   "metadata": {},
   "source": [
    "### 2. get train and validation sets"
   ]
  },
  {
   "cell_type": "code",
   "execution_count": 12,
   "metadata": {},
   "outputs": [
    {
     "data": {
      "text/plain": [
       "((379, 13), (127, 13))"
      ]
     },
     "execution_count": 12,
     "metadata": {},
     "output_type": "execute_result"
    }
   ],
   "source": [
    "X_train, X_test, y_train, y_test = sklearn.model_selection.train_test_split(\n",
    "    boston.data.astype(np.float32), \n",
    "    boston.target, \n",
    "    test_size=0.25, \n",
    "    random_state=42\n",
    ")\n",
    "\n",
    "X_train.shape, X_test.shape"
   ]
  },
  {
   "cell_type": "markdown",
   "metadata": {},
   "source": [
    "### 3-6. train with `DecisionTreeRegressor`"
   ]
  },
  {
   "cell_type": "code",
   "execution_count": 34,
   "metadata": {},
   "outputs": [],
   "source": [
    "def default_get_weight(x):\n",
    "    return 0.9\n",
    "\n",
    "def iter_get_weight(i):\n",
    "    return 0.9 / (1.0 + i)\n",
    "\n",
    "def get_clf(depth):\n",
    "    return sklearn.tree.DecisionTreeRegressor(max_depth=depth, random_state=42)\n",
    "\n",
    "def predict_boosted(models, X, y, weights):\n",
    "    p = np.zeros(y.shape)\n",
    "    for i, model in enumerate(models):\n",
    "        p += model.predict(X) * weights[i]\n",
    "\n",
    "    loss = sklearn.metrics.mean_squared_error(y, p)\n",
    "    return p, loss\n",
    "\n",
    "def train_boosted(X, y, num_iters=50, get_weight=default_get_weight, depth=5):\n",
    "    models = []\n",
    "    \n",
    "    y = np.copy(y)\n",
    "    weights = np.ones(shape=(num_iters,))\n",
    "    \n",
    "    for i in range(num_iters):\n",
    "        clf = get_clf(depth)\n",
    "        clf.fit(X_train, y)\n",
    "        \n",
    "        models.append(clf)\n",
    "        weights[i] = get_weight(i)\n",
    "        \n",
    "        pred, loss = predict_boosted(models, X_train, y_train, weights)\n",
    "        \n",
    "        h = clf.predict(X_train)\n",
    "        y = y - h * weights[i]\n",
    "\n",
    "    return models, weights"
   ]
  },
  {
   "cell_type": "code",
   "execution_count": 68,
   "metadata": {},
   "outputs": [],
   "source": [
    "models, weights = train_boosted(X_train, y_train)"
   ]
  },
  {
   "cell_type": "code",
   "execution_count": 69,
   "metadata": {},
   "outputs": [
    {
     "name": "stdout",
     "output_type": "stream",
     "text": [
      "Training Set MSE loss:\t3.7686156404275976e-05\n",
      "Test Set MSE loss:\t13.600735758368467\n"
     ]
    }
   ],
   "source": [
    "def print_results(models, weights):\n",
    "    p, loss = predict_boosted(models, X_train, y_train, weights)\n",
    "    test_p, test_loss = predict_boosted(models, X_test, y_test, weights)\n",
    "\n",
    "    print(f'Training Set MSE loss:\\t{loss}')\n",
    "    print(f'Test Set MSE loss:\\t{test_loss}')\n",
    "    \n",
    "    return test_loss\n",
    "    \n",
    "test_loss = print_results(models, weights)"
   ]
  },
  {
   "cell_type": "markdown",
   "metadata": {},
   "source": [
    "### 7. change weights on each iteration"
   ]
  },
  {
   "cell_type": "code",
   "execution_count": 70,
   "metadata": {},
   "outputs": [
    {
     "name": "stdout",
     "output_type": "stream",
     "text": [
      "Training Set MSE loss:\t1.4211440991285953\n",
      "Test Set MSE loss:\t8.987354822947314\n"
     ]
    }
   ],
   "source": [
    "models, weights = train_boosted(X_train, y_train, get_weight=iter_get_weight)\n",
    "test_loss = print_results(models, weights)"
   ]
  },
  {
   "cell_type": "markdown",
   "metadata": {},
   "source": [
    "> при константном весе модель имеет меньшую ошибку на тренировочных данных, но большую на валидационной выборке"
   ]
  },
  {
   "cell_type": "markdown",
   "metadata": {},
   "source": [
    "### 8a. test on large number of iterations "
   ]
  },
  {
   "cell_type": "code",
   "execution_count": 39,
   "metadata": {},
   "outputs": [],
   "source": [
    "def test_num_iters(X_train, y_train, X_val, y_val):\n",
    "    steps = 10\n",
    "    iters = np.linspace(10, 400, steps, dtype=int)\n",
    "    \n",
    "    train_loss = np.zeros(steps)\n",
    "    val_loss = np.zeros(steps)\n",
    "    for i, num_iters in enumerate(iters):\n",
    "        models, weights = train_boosted(X_train, y_train, num_iters, get_weight=iter_get_weight)\n",
    "        \n",
    "        p, loss = predict_boosted(models, X_train, y_train, weights)\n",
    "        test_p, test_loss = predict_boosted(models, X_val, y_val, weights)\n",
    "        \n",
    "        train_loss[i] = loss\n",
    "        val_loss[i] = test_loss\n",
    "\n",
    "    best_iters = iters[val_loss.argmin()]\n",
    "    return best_iters, train_loss, val_loss, iters"
   ]
  },
  {
   "cell_type": "code",
   "execution_count": 40,
   "metadata": {},
   "outputs": [
    {
     "data": {
      "text/plain": [
       "400"
      ]
     },
     "execution_count": 40,
     "metadata": {},
     "output_type": "execute_result"
    }
   ],
   "source": [
    "best_num_iters, train_loss, test_loss, iters = test_num_iters(X_train, y_train, X_test, y_test)\n",
    "best_num_iters"
   ]
  },
  {
   "cell_type": "code",
   "execution_count": 41,
   "metadata": {},
   "outputs": [
    {
     "data": {
      "image/png": "[encoded data removed]",
      "text/plain": [
       "<Figure size 720x432 with 1 Axes>"
      ]
     },
     "metadata": {
      "needs_background": "light"
     },
     "output_type": "display_data"
    }
   ],
   "source": [
    "def plot_data(iters, train_loss, test_loss, xlabel):\n",
    "    plt.figure(figsize=(10, 6))\n",
    "    plt.plot(iters, train_loss, c='b', label='Train')\n",
    "    plt.plot(iters, test_loss, c='r', label='Test')\n",
    "    plt.xlabel(xlabel)\n",
    "    plt.ylabel('MSE Loss')\n",
    "    plt.legend()\n",
    "    plt.show()\n",
    "    \n",
    "plot_data(iters, train_loss, test_loss, 'Number of iterations')"
   ]
  },
  {
   "cell_type": "markdown",
   "metadata": {},
   "source": [
    "> По графику ошибка убывает с числом итераций для обоих выборок (тренировочной и валидационной) - те модель не переобучается с ростом числа итераций"
   ]
  },
  {
   "cell_type": "markdown",
   "metadata": {},
   "source": [
    "### 8b. test on large tree depth"
   ]
  },
  {
   "cell_type": "code",
   "execution_count": 53,
   "metadata": {},
   "outputs": [],
   "source": [
    "def test_tree_depth(X_train, y_train, X_val, y_val):\n",
    "    depths = range(2, 20)\n",
    "    steps = len(depths)\n",
    "    \n",
    "    train_loss = np.zeros(steps)\n",
    "    val_loss = np.zeros(steps)\n",
    "    for i, depth in enumerate(depths):\n",
    "        models, weights = train_boosted(X_train, y_train, depth=depth, get_weight=iter_get_weight)\n",
    "        \n",
    "        p, loss = predict_boosted(models, X_train, y_train, weights)\n",
    "        test_p, test_loss = predict_boosted(models, X_val, y_val, weights)\n",
    "        \n",
    "        train_loss[i] = loss\n",
    "        val_loss[i] = test_loss\n",
    "\n",
    "    best_depth = depths[val_loss.argmin()]\n",
    "    return best_depth, train_loss, val_loss, depths"
   ]
  },
  {
   "cell_type": "code",
   "execution_count": 54,
   "metadata": {},
   "outputs": [
    {
     "data": {
      "text/plain": [
       "5"
      ]
     },
     "execution_count": 54,
     "metadata": {},
     "output_type": "execute_result"
    }
   ],
   "source": [
    "best_depth, train_loss, test_loss, depths = test_tree_depth(X_train, y_train, X_test, y_test)\n",
    "best_depth"
   ]
  },
  {
   "cell_type": "code",
   "execution_count": 55,
   "metadata": {},
   "outputs": [
    {
     "data": {
      "image/png": "[encoded data removed]",
      "text/plain": [
       "<Figure size 720x432 with 1 Axes>"
      ]
     },
     "metadata": {
      "needs_background": "light"
     },
     "output_type": "display_data"
    }
   ],
   "source": [
    "plot_data(depths, train_loss, test_loss, 'Max Tree Depth')"
   ]
  },
  {
   "cell_type": "markdown",
   "metadata": {},
   "source": [
    "> При увеличении глубины дерева, ошибка на тренировочной выборке падает, а на валидационной скачет - что говорит о переобучении модели"
   ]
  },
  {
   "cell_type": "markdown",
   "metadata": {},
   "source": [
    "### 9. compare with `sklearn.linear_model`"
   ]
  },
  {
   "cell_type": "code",
   "execution_count": 72,
   "metadata": {},
   "outputs": [],
   "source": [
    "lr = sklearn.linear_model.LinearRegression()\n",
    "lr.fit(X_train, y_train)\n",
    "\n",
    "lr_p = lr.predict(X_train)\n",
    "lr_test_p = lr.predict(X_test)\n",
    "lr_train_loss = sklearn.metrics.mean_squared_error(y_train, lr_p)\n",
    "lr_test_loss = sklearn.metrics.mean_squared_error(y_test, lr_test_p)"
   ]
  },
  {
   "cell_type": "code",
   "execution_count": 74,
   "metadata": {},
   "outputs": [
    {
     "name": "stdout",
     "output_type": "stream",
     "text": [
      "LR train MSE:\t22.3400585447522\n",
      "LR test MSE:\t22.09877006714036\n",
      "GB RMSE loss:\t2.9978917296906027\n",
      "LR RMSE loss:\t4.7009328932819665\n",
      "GB perfomance is 1.6x better\n"
     ]
    }
   ],
   "source": [
    "print(f'LR train MSE:\\t{lr_train_loss}')\n",
    "print(f'LR test MSE:\\t{lr_test_loss}')\n",
    "\n",
    "print(f'GB RMSE loss:\\t{np.sqrt(test_loss)}')\n",
    "print(f'LR RMSE loss:\\t{np.sqrt(lr_test_loss)}')\n",
    "print(f'GB perfomance is {np.sqrt(lr_test_loss)/np.sqrt(test_loss):.2}x better')"
   ]
  },
  {
   "cell_type": "markdown",
   "metadata": {},
   "source": [
    "### 10. conclusions"
   ]
  },
  {
   "cell_type": "markdown",
   "metadata": {},
   "source": [
    "Был рассмотрен метод градиентного бустинга используя деревья решений.\n",
    "\n",
    "Проанализировано влияние параметров (количество итераций и глубина дерева) на качество обучения.\n",
    "\n",
    "Проведено сравнение градиентного бустинга с линейной регрессией."
   ]
  }
 ],
 "metadata": {
  "kernelspec": {
   "display_name": "Python 3",
   "language": "python",
   "name": "python3"
  },
  "language_info": {
   "codemirror_mode": {
    "name": "ipython",
    "version": 3
   },
   "file_extension": ".py",
   "mimetype": "text/x-python",
   "name": "python",
   "nbconvert_exporter": "python",
   "pygments_lexer": "ipython3",
   "version": "3.7.4"
  }
 },
 "nbformat": 4,
 "nbformat_minor": 2
}
