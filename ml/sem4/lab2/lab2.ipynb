{
 "cells": [
  {
   "cell_type": "markdown",
   "metadata": {},
   "source": [
    "# ml lab2"
   ]
  },
  {
   "cell_type": "code",
   "execution_count": 1,
   "metadata": {},
   "outputs": [],
   "source": [
    "import numpy as np\n",
    "import matplotlib.pyplot as plt"
   ]
  },
  {
   "cell_type": "markdown",
   "metadata": {},
   "source": [
    "### 1.1 read lab1 data"
   ]
  },
  {
   "cell_type": "code",
   "execution_count": 2,
   "metadata": {},
   "outputs": [],
   "source": [
    "import os\n",
    "\n",
    "DATA_PATH = '../lab1/data/notMNIST_small'\n",
    "\n",
    "letters = sorted(os.listdir(DATA_PATH))\n",
    "\n",
    "image_width = 28\n",
    "\n",
    "X = []\n",
    "y = []\n",
    "\n",
    "for l_id, letter in enumerate(letters):\n",
    "    l_dir = f'{DATA_PATH}/{letter}'\n",
    "    for image in os.listdir(l_dir):\n",
    "        try:\n",
    "            img = plt.imread(f'{l_dir}/{image}')\n",
    "            X.append(img.reshape(-1, image_width * image_width)[0])\n",
    "            y.append(l_id)\n",
    "        except:\n",
    "            continue"
   ]
  },
  {
   "cell_type": "code",
   "execution_count": 3,
   "metadata": {},
   "outputs": [
    {
     "data": {
      "text/plain": [
       "(18724, 18724)"
      ]
     },
     "execution_count": 3,
     "metadata": {},
     "output_type": "execute_result"
    }
   ],
   "source": [
    "len(X), len(y)"
   ]
  },
  {
   "cell_type": "code",
   "execution_count": 4,
   "metadata": {},
   "outputs": [
    {
     "data": {
      "text/plain": [
       "(14979, 3745)"
      ]
     },
     "execution_count": 4,
     "metadata": {},
     "output_type": "execute_result"
    }
   ],
   "source": [
    "from sklearn.model_selection import train_test_split\n",
    "\n",
    "X_train, X_test, y_train, y_test = train_test_split(X, y, test_size=0.2)\n",
    "\n",
    "len(X_train), len(X_test)"
   ]
  },
  {
   "cell_type": "markdown",
   "metadata": {},
   "source": [
    "### 1.2 build network"
   ]
  },
  {
   "cell_type": "code",
   "execution_count": 5,
   "metadata": {},
   "outputs": [],
   "source": [
    "import torch\n",
    "import torch.nn as nn"
   ]
  },
  {
   "cell_type": "code",
   "execution_count": 6,
   "metadata": {},
   "outputs": [],
   "source": [
    "epochs = 100\n",
    "batch_size = 512\n",
    "learning_rate = 1e-3\n",
    "\n",
    "mu = np.mean(X)\n",
    "std = np.std(X)"
   ]
  },
  {
   "cell_type": "code",
   "execution_count": 52,
   "metadata": {},
   "outputs": [
    {
     "data": {
      "text/plain": [
       "device(type='cuda', index=0)"
      ]
     },
     "execution_count": 52,
     "metadata": {},
     "output_type": "execute_result"
    }
   ],
   "source": [
    "network = nn.Sequential(\n",
    "    nn.Linear(784, 900),\n",
    "    nn.LeakyReLU(),\n",
    "    nn.Linear(900, 900),\n",
    "    nn.LeakyReLU(),\n",
    "    nn.Linear(900, 500),\n",
    "    nn.LeakyReLU(),\n",
    "    nn.Linear(500, 10),\n",
    ")\n",
    "\n",
    "device = torch.device('cuda:0') if torch.cuda.is_available() else torch.device('cpu')\n",
    "device"
   ]
  },
  {
   "cell_type": "code",
   "execution_count": 53,
   "metadata": {},
   "outputs": [
    {
     "data": {
      "text/plain": [
       "Sequential(\n",
       "  (0): Linear(in_features=784, out_features=900, bias=True)\n",
       "  (1): LeakyReLU(negative_slope=0.01)\n",
       "  (2): Linear(in_features=900, out_features=900, bias=True)\n",
       "  (3): LeakyReLU(negative_slope=0.01)\n",
       "  (4): Linear(in_features=900, out_features=500, bias=True)\n",
       "  (5): LeakyReLU(negative_slope=0.01)\n",
       "  (6): Linear(in_features=500, out_features=10, bias=True)\n",
       ")"
      ]
     },
     "execution_count": 53,
     "metadata": {},
     "output_type": "execute_result"
    }
   ],
   "source": [
    "network.to(device)"
   ]
  },
  {
   "cell_type": "code",
   "execution_count": 54,
   "metadata": {},
   "outputs": [
    {
     "data": {
      "text/plain": [
       "14979"
      ]
     },
     "execution_count": 54,
     "metadata": {},
     "output_type": "execute_result"
    }
   ],
   "source": [
    "import torch.optim as optim\n",
    "\n",
    "optimizer = optim.Adagrad(network.parameters(), lr=learning_rate)\n",
    "loss_func = nn.CrossEntropyLoss()\n",
    "\n",
    "x_tensor = torch.FloatTensor(X_train)\n",
    "y_tensor = torch.LongTensor(y_train)\n",
    "\n",
    "x_test_ten = torch.FloatTensor(X_test).to(device)\n",
    "y_test_ten = torch.LongTensor(y_test).to(device)\n",
    "\n",
    "n = len(X_train)\n",
    "n"
   ]
  },
  {
   "cell_type": "code",
   "execution_count": 105,
   "metadata": {},
   "outputs": [],
   "source": [
    "from tqdm import tqdm\n",
    "\n",
    "def train(_net, _opt, _x, _y, epochs):\n",
    "    loss_data = []\n",
    "\n",
    "    pbar = tqdm(range(epochs))\n",
    "    for e in pbar:\n",
    "        e_loss = None\n",
    "        for i in range(0, n - batch_size, batch_size):\n",
    "            x_i = _x[i:i + batch_size].to(device)\n",
    "            y_i = _y[i:i + batch_size].to(device)\n",
    "\n",
    "            _opt.zero_grad()\n",
    "            predict = _net(x_i)\n",
    "\n",
    "            loss = loss_func(predict, y_i)\n",
    "            loss.backward()\n",
    "            _opt.step()\n",
    "            \n",
    "            e_loss = loss.data\n",
    "        loss_data.append(e_loss)\n",
    "        pbar.set_description(f'[e#{e} loss: {e_loss:.3f}]')\n",
    "    return loss_data"
   ]
  },
  {
   "cell_type": "code",
   "execution_count": 56,
   "metadata": {},
   "outputs": [
    {
     "name": "stderr",
     "output_type": "stream",
     "text": [
      "[e#99 loss: 0.087]: 100%|██████████| 100/100 [00:13<00:00,  7.51it/s]\n"
     ]
    }
   ],
   "source": [
    "loss_history = train(network, optimizer, x_tensor, y_tensor)"
   ]
  },
  {
   "cell_type": "code",
   "execution_count": 58,
   "metadata": {},
   "outputs": [
    {
     "data": {
      "image/png": "[encoded data removed]",
      "text/plain": [
       "<Figure size 576x432 with 1 Axes>"
      ]
     },
     "metadata": {
      "needs_background": "light"
     },
     "output_type": "display_data"
    }
   ],
   "source": [
    "def draw(data):\n",
    "    plt.figure(figsize=(8, 6))\n",
    "    plt.plot(data)\n",
    "    plt.xlabel('Epochs')\n",
    "    plt.ylabel('Loss')\n",
    "    plt.show()\n",
    "\n",
    "network.eval();\n",
    "draw(loss_history)"
   ]
  },
  {
   "cell_type": "markdown",
   "metadata": {},
   "source": [
    "### 2. accuracy"
   ]
  },
  {
   "cell_type": "code",
   "execution_count": 69,
   "metadata": {},
   "outputs": [
    {
     "name": "stdout",
     "output_type": "stream",
     "text": [
      "Accuracy:\t92.04%\n"
     ]
    }
   ],
   "source": [
    "from sklearn.metrics import accuracy_score\n",
    "\n",
    "def get_accuracy(net, normilize=False):\n",
    "    test_tensor = torch.FloatTensor(X_test).to(device)\n",
    "    if normilize:\n",
    "        test_tensor = (test_tensor - mu) / std\n",
    "    test_predict = net(test_tensor)\n",
    "\n",
    "    _, max_index = torch.max(test_predict, 1)\n",
    "    y_predict = max_index.tolist()\n",
    "\n",
    "    return accuracy_score(y_predict, y_test)\n",
    "\n",
    "test_score = get_accuracy(network)\n",
    "print(f'Accuracy:\\t{test_score:.2%}')"
   ]
  },
  {
   "cell_type": "markdown",
   "metadata": {},
   "source": [
    "> `92%` vs `86.7%` with logistic regression"
   ]
  },
  {
   "cell_type": "markdown",
   "metadata": {},
   "source": [
    "### 3. regularization & dropout vs overfitting"
   ]
  },
  {
   "cell_type": "code",
   "execution_count": 147,
   "metadata": {},
   "outputs": [
    {
     "data": {
      "text/plain": [
       "Sequential(\n",
       "  (0): Linear(in_features=784, out_features=900, bias=True)\n",
       "  (1): BatchNorm1d(900, eps=1e-05, momentum=0.1, affine=True, track_running_stats=True)\n",
       "  (2): LeakyReLU(negative_slope=0.01)\n",
       "  (3): Dropout(p=0.25, inplace=False)\n",
       "  (4): Linear(in_features=900, out_features=900, bias=True)\n",
       "  (5): LeakyReLU(negative_slope=0.01)\n",
       "  (6): Dropout(p=0.25, inplace=False)\n",
       "  (7): Linear(in_features=900, out_features=500, bias=True)\n",
       "  (8): LeakyReLU(negative_slope=0.01)\n",
       "  (9): Dropout(p=0.25, inplace=False)\n",
       "  (10): Linear(in_features=500, out_features=10, bias=True)\n",
       "  (11): LogSoftmax()\n",
       ")"
      ]
     },
     "execution_count": 147,
     "metadata": {},
     "output_type": "execute_result"
    }
   ],
   "source": [
    "d_network = nn.Sequential(\n",
    "    nn.Linear(784, 900),\n",
    "    nn.BatchNorm1d(num_features=900),\n",
    "    nn.LeakyReLU(),\n",
    "    nn.Dropout(0.25),\n",
    "    \n",
    "    nn.Linear(900, 900),\n",
    "    nn.LeakyReLU(),\n",
    "    nn.Dropout(0.25),\n",
    "    \n",
    "    nn.Linear(900, 500),\n",
    "    nn.LeakyReLU(),\n",
    "    nn.Dropout(0.25),\n",
    "    \n",
    "    nn.Linear(500, 10),\n",
    "    nn.LogSoftmax(dim=1)\n",
    ")\n",
    "\n",
    "d_network.to(device)"
   ]
  },
  {
   "cell_type": "code",
   "execution_count": 141,
   "metadata": {},
   "outputs": [],
   "source": [
    "x_norm_tensor = torch.FloatTensor((X_train - mu) / std)\n",
    "y_norm_tensor = torch.LongTensor(y_train)\n",
    "\n",
    "optimizer2 = optim.Adagrad(d_network.parameters(), lr=learning_rate)"
   ]
  },
  {
   "cell_type": "code",
   "execution_count": 142,
   "metadata": {},
   "outputs": [
    {
     "name": "stderr",
     "output_type": "stream",
     "text": [
      "[e#199 loss: 0.090]: 100%|██████████| 200/200 [00:29<00:00,  6.85it/s]\n"
     ]
    }
   ],
   "source": [
    "norm_loss_history = train(d_network, optimizer2, x_tensor, y_tensor, 200)"
   ]
  },
  {
   "cell_type": "code",
   "execution_count": 143,
   "metadata": {},
   "outputs": [
    {
     "data": {
      "image/png": "[encoded data removed]",
      "text/plain": [
       "<Figure size 576x432 with 1 Axes>"
      ]
     },
     "metadata": {
      "needs_background": "light"
     },
     "output_type": "display_data"
    }
   ],
   "source": [
    "d_network.eval();\n",
    "draw(norm_loss_history)"
   ]
  },
  {
   "cell_type": "code",
   "execution_count": 144,
   "metadata": {},
   "outputs": [
    {
     "name": "stdout",
     "output_type": "stream",
     "text": [
      "Accuracy:\t92.20%\n"
     ]
    }
   ],
   "source": [
    "print(f'Accuracy:\\t{get_accuracy(d_network):.2%}')"
   ]
  },
  {
   "cell_type": "markdown",
   "metadata": {},
   "source": [
    "### 4. dynamic learning rate"
   ]
  },
  {
   "cell_type": "code",
   "execution_count": 148,
   "metadata": {},
   "outputs": [],
   "source": [
    "from torch.optim.lr_scheduler import ReduceLROnPlateau\n",
    "\n",
    "epochs = 100\n",
    "learning_rate = 0.1\n",
    "optimizer3 = torch.optim.SGD(d_network.parameters(), lr=learning_rate, momentum=0.9, nesterov=True)\n",
    "scheduler = ReduceLROnPlateau(optimizer3, mode='max', factor=0.1, patience=0, verbose=True)"
   ]
  },
  {
   "cell_type": "code",
   "execution_count": 149,
   "metadata": {},
   "outputs": [
    {
     "name": "stdout",
     "output_type": "stream",
     "text": [
      "Epoch\t0:\tloss: 0.433\taccuracy: 0.883\n",
      "Epoch     7: reducing learning rate of group 0 to 1.0000e-02.\n",
      "Epoch    10: reducing learning rate of group 0 to 1.0000e-03.\n",
      "Epoch\t10:\tloss: 0.078\taccuracy: 0.920\n",
      "Epoch    12: reducing learning rate of group 0 to 1.0000e-04.\n",
      "Epoch    13: reducing learning rate of group 0 to 1.0000e-05.\n",
      "Epoch    14: reducing learning rate of group 0 to 1.0000e-06.\n",
      "Epoch    15: reducing learning rate of group 0 to 1.0000e-07.\n",
      "Epoch    16: reducing learning rate of group 0 to 1.0000e-08.\n",
      "Epoch\t20:\tloss: 0.065\taccuracy: 0.917\n",
      "Epoch\t30:\tloss: 0.072\taccuracy: 0.916\n",
      "Epoch\t40:\tloss: 0.075\taccuracy: 0.918\n",
      "Epoch\t50:\tloss: 0.070\taccuracy: 0.917\n",
      "Epoch\t60:\tloss: 0.069\taccuracy: 0.916\n",
      "Epoch\t70:\tloss: 0.075\taccuracy: 0.916\n",
      "Epoch\t80:\tloss: 0.078\taccuracy: 0.919\n",
      "Epoch\t90:\tloss: 0.068\taccuracy: 0.919\n"
     ]
    }
   ],
   "source": [
    "loss_data = []\n",
    "\n",
    "for e in range(epochs):\n",
    "    for i in range(0, n - batch_size, batch_size):\n",
    "        x_i = x_norm_tensor[i:i + batch_size].to(device)\n",
    "        y_i = y_norm_tensor[i:i + batch_size].to(device)\n",
    "        \n",
    "        optimizer3.zero_grad()\n",
    "        predict = d_network(x_i)\n",
    "        \n",
    "        loss = loss_func(predict, y_i)\n",
    "        loss.backward()\n",
    "        optimizer3.step()\n",
    "        \n",
    "        if i % 1000 == 0:\n",
    "            loss_data.append(loss.data)\n",
    "    accuracy = get_accuracy(d_network, True)\n",
    "    if e % 10 == 0:\n",
    "        print(f'Epoch\\t{e}:\\tloss: {loss.data:.3f}\\taccuracy: {accuracy:.3f}')\n",
    "    scheduler.step(accuracy)"
   ]
  },
  {
   "cell_type": "code",
   "execution_count": 150,
   "metadata": {},
   "outputs": [
    {
     "data": {
      "image/png": "[encoded data removed]",
      "text/plain": [
       "<Figure size 576x432 with 1 Axes>"
      ]
     },
     "metadata": {
      "needs_background": "light"
     },
     "output_type": "display_data"
    }
   ],
   "source": [
    "draw(loss_data)\n",
    "d_network.eval();"
   ]
  },
  {
   "cell_type": "code",
   "execution_count": 151,
   "metadata": {},
   "outputs": [
    {
     "name": "stdout",
     "output_type": "stream",
     "text": [
      "Accuracy:\t92.47%\n"
     ]
    }
   ],
   "source": [
    "print(f'Accuracy:\\t{get_accuracy(d_network, True):.2%}')"
   ]
  }
 ],
 "metadata": {
  "kernelspec": {
   "display_name": "bsuir",
   "language": "python",
   "name": "bsuir"
  },
  "language_info": {
   "codemirror_mode": {
    "name": "ipython",
    "version": 3
   },
   "file_extension": ".py",
   "mimetype": "text/x-python",
   "name": "python",
   "nbconvert_exporter": "python",
   "pygments_lexer": "ipython3",
   "version": "3.7.6"
  }
 },
 "nbformat": 4,
 "nbformat_minor": 2
}
