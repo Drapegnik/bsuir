{
 "cells": [
  {
   "cell_type": "markdown",
   "metadata": {},
   "source": [
    "# ml lab2"
   ]
  },
  {
   "cell_type": "code",
   "execution_count": 1,
   "metadata": {},
   "outputs": [],
   "source": [
    "import numpy as np\n",
    "import matplotlib.pyplot as plt"
   ]
  },
  {
   "cell_type": "markdown",
   "metadata": {},
   "source": [
    "### 1.1 read lab1 data"
   ]
  },
  {
   "cell_type": "code",
   "execution_count": 8,
   "metadata": {},
   "outputs": [],
   "source": [
    "import os\n",
    "\n",
    "DATA_PATH = '../lab1/data/notMNIST_small'\n",
    "\n",
    "letters = sorted(os.listdir(DATA_PATH))\n",
    "\n",
    "image_width = 28\n",
    "\n",
    "X = []\n",
    "y = []\n",
    "\n",
    "for l_id, letter in enumerate(letters):\n",
    "    l_dir = f'{DATA_PATH}/{letter}'\n",
    "    for image in os.listdir(l_dir):\n",
    "        try:\n",
    "            img = plt.imread(f'{l_dir}/{image}')\n",
    "            X.append(img.reshape(-1, image_width * image_width)[0])\n",
    "            y.append(l_id)\n",
    "        except:\n",
    "            continue"
   ]
  },
  {
   "cell_type": "code",
   "execution_count": 10,
   "metadata": {},
   "outputs": [
    {
     "data": {
      "text/plain": [
       "(18724, 18724)"
      ]
     },
     "execution_count": 10,
     "metadata": {},
     "output_type": "execute_result"
    }
   ],
   "source": [
    "len(X), len(y)"
   ]
  },
  {
   "cell_type": "code",
   "execution_count": 11,
   "metadata": {},
   "outputs": [],
   "source": [
    "from sklearn.model_selection import train_test_split\n",
    "\n",
    "X_train, X_test, y_train, y_test = train_test_split(X, y, test_size=0.2, train_size=0.8)"
   ]
  },
  {
   "cell_type": "markdown",
   "metadata": {},
   "source": [
    "### 1.2 build network"
   ]
  },
  {
   "cell_type": "code",
   "execution_count": 79,
   "metadata": {},
   "outputs": [],
   "source": [
    "import torch\n",
    "import torch.nn as nn\n",
    "import torch.nn.functional as F"
   ]
  },
  {
   "cell_type": "code",
   "execution_count": 156,
   "metadata": {},
   "outputs": [],
   "source": [
    "sizes = [784, 1200, 1200, 1200, 400, 100, 10]\n",
    "\n",
    "epochs = 400\n",
    "step = 512\n",
    "learning_rate = 1e-3\n",
    "\n",
    "mu = np.mean(X)\n",
    "std = np.std(X)"
   ]
  },
  {
   "cell_type": "code",
   "execution_count": 87,
   "metadata": {},
   "outputs": [
    {
     "data": {
      "text/plain": [
       "Network(\n",
       "  (l1): Linear(in_features=784, out_features=1200, bias=True)\n",
       "  (relu1): LeakyReLU(negative_slope=0.01)\n",
       "  (l2): Linear(in_features=1200, out_features=1200, bias=True)\n",
       "  (relu2): LeakyReLU(negative_slope=0.01)\n",
       "  (l3): Linear(in_features=1200, out_features=1200, bias=True)\n",
       "  (relu3): LeakyReLU(negative_slope=0.01)\n",
       "  (l4): Linear(in_features=1200, out_features=400, bias=True)\n",
       "  (relu4): LeakyReLU(negative_slope=0.01)\n",
       "  (l5): Linear(in_features=400, out_features=100, bias=True)\n",
       "  (relu5): LeakyReLU(negative_slope=0.01)\n",
       "  (l6): Linear(in_features=100, out_features=10, bias=True)\n",
       ")"
      ]
     },
     "execution_count": 87,
     "metadata": {},
     "output_type": "execute_result"
    }
   ],
   "source": [
    "class Network(nn.Module):\n",
    "    def __init__(self):\n",
    "        super(Network, self).__init__()\n",
    "        for i in range(1, len(sizes)):\n",
    "            l = nn.Linear(sizes[i - 1], sizes[i])\n",
    "            setattr(self, f'l{i}', l)\n",
    "            if i != len(sizes) - 1:\n",
    "                setattr(self, f'relu{i}', nn.LeakyReLU())\n",
    "        \n",
    "    def forward(self, x):\n",
    "        for l in network.children():\n",
    "            x = l(x)\n",
    "        return F.log_softmax(x, dim=1)\n",
    "\n",
    "network = Network()\n",
    "devide = torch.device('cpu')\n",
    "network.to(devide)"
   ]
  },
  {
   "cell_type": "code",
   "execution_count": 88,
   "metadata": {},
   "outputs": [
    {
     "data": {
      "text/plain": [
       "14979"
      ]
     },
     "execution_count": 88,
     "metadata": {},
     "output_type": "execute_result"
    }
   ],
   "source": [
    "import torch.optim as optim\n",
    "\n",
    "optimizer = optim.Adagrad(network.parameters(), lr=learning_rate)\n",
    "loss_func = nn.CrossEntropyLoss()\n",
    "\n",
    "x_tensor = torch.FloatTensor(X_train)\n",
    "y_tensor = torch.LongTensor(y_train)\n",
    "\n",
    "n = len(X_train)\n",
    "n"
   ]
  },
  {
   "cell_type": "code",
   "execution_count": 89,
   "metadata": {},
   "outputs": [
    {
     "name": "stdout",
     "output_type": "stream",
     "text": [
      "Epoch10:\tloss: 0.271209\n",
      "Epoch20:\tloss: 0.208018\n",
      "Epoch30:\tloss: 0.160350\n",
      "Epoch40:\tloss: 0.119195\n",
      "Epoch50:\tloss: 0.098869\n",
      "Epoch60:\tloss: 0.078770\n",
      "Epoch70:\tloss: 0.066453\n",
      "Epoch80:\tloss: 0.054954\n",
      "Epoch90:\tloss: 0.044032\n",
      "Epoch100:\tloss: 0.033680\n",
      "Epoch110:\tloss: 0.022876\n",
      "Epoch120:\tloss: 0.014876\n",
      "Epoch130:\tloss: 0.010553\n",
      "Epoch140:\tloss: 0.008259\n",
      "Epoch150:\tloss: 0.006850\n",
      "Epoch160:\tloss: 0.005875\n",
      "Epoch170:\tloss: 0.005169\n",
      "Epoch180:\tloss: 0.004641\n",
      "Epoch190:\tloss: 0.004260\n",
      "Epoch200:\tloss: 0.003956\n",
      "Epoch210:\tloss: 0.003726\n",
      "Epoch220:\tloss: 0.003561\n",
      "Epoch230:\tloss: 0.003391\n",
      "Epoch240:\tloss: 0.003280\n",
      "Epoch250:\tloss: 0.003158\n",
      "Epoch260:\tloss: 0.003073\n",
      "Epoch270:\tloss: 0.003018\n",
      "Epoch280:\tloss: 0.002937\n",
      "Epoch290:\tloss: 0.002881\n",
      "Epoch300:\tloss: 0.002840\n",
      "Epoch310:\tloss: 0.002789\n",
      "Epoch320:\tloss: 0.002751\n",
      "Epoch330:\tloss: 0.002719\n",
      "Epoch340:\tloss: 0.002691\n",
      "Epoch350:\tloss: 0.002686\n",
      "Epoch360:\tloss: 0.002646\n",
      "Epoch370:\tloss: 0.002615\n",
      "Epoch380:\tloss: 0.002608\n",
      "Epoch390:\tloss: 0.002584\n"
     ]
    }
   ],
   "source": [
    "loss_data = []\n",
    "\n",
    "for e in range(epochs):\n",
    "    for i in range(0, n - step, step):\n",
    "        x_i = x_tensor[i:i + step].to(devide)\n",
    "        y_i = y_tensor[i:i + step].to(devide)\n",
    "        \n",
    "        optimizer.zero_grad()\n",
    "        predict = network(x_i)\n",
    "        \n",
    "        loss = loss_func(predict, y_i)\n",
    "        loss.backward()\n",
    "        optimizer.step()\n",
    "        \n",
    "        if i % 1000 == 0:\n",
    "            loss_data.append(loss.data)\n",
    "    if e > 0 and e % 10 == 0:    \n",
    "        print(f'Epoch{e}:\\tloss: {loss.data:.6f}')"
   ]
  },
  {
   "cell_type": "code",
   "execution_count": 99,
   "metadata": {},
   "outputs": [
    {
     "data": {
      "image/png": "[encoded data removed]",
      "text/plain": [
       "<Figure size 576x432 with 1 Axes>"
      ]
     },
     "metadata": {
      "needs_background": "light"
     },
     "output_type": "display_data"
    }
   ],
   "source": [
    "def draw(data):\n",
    "    plt.figure(figsize=(8, 6))\n",
    "    plt.plot(data)\n",
    "    plt.xlabel('Epochs')\n",
    "    plt.ylabel('Loss')\n",
    "    plt.show()\n",
    "\n",
    "network.eval();\n",
    "draw(loss_data)"
   ]
  },
  {
   "cell_type": "markdown",
   "metadata": {},
   "source": [
    "### 2. accuracy"
   ]
  },
  {
   "cell_type": "code",
   "execution_count": 160,
   "metadata": {},
   "outputs": [
    {
     "name": "stdout",
     "output_type": "stream",
     "text": [
      "score:\t91.05%\n"
     ]
    }
   ],
   "source": [
    "def get_accuracy(net, normilize=False):\n",
    "    test_tensor = torch.FloatTensor(X_test).to(device)\n",
    "    if normilize:\n",
    "        test_tensor = (test_tensor - mu) / std\n",
    "    test_predict = net(test_tensor)\n",
    "\n",
    "    _, max_index = torch.max(test_predict, 1)\n",
    "    y_predict = max_index.tolist()\n",
    "\n",
    "\n",
    "    return accuracy_score(y_predict, y_test)\n",
    "\n",
    "test_score = get_accuracy(network)\n",
    "print(f'score:\\t{test_score * 100:.2f}%')"
   ]
  },
  {
   "cell_type": "markdown",
   "metadata": {},
   "source": [
    "> `91.1%` vs `86.7%` with logistic regression"
   ]
  },
  {
   "cell_type": "markdown",
   "metadata": {},
   "source": [
    "### 3. regularization & dropout vs overfitting"
   ]
  },
  {
   "cell_type": "code",
   "execution_count": 167,
   "metadata": {},
   "outputs": [],
   "source": [
    "epochs = 100"
   ]
  },
  {
   "cell_type": "code",
   "execution_count": 174,
   "metadata": {},
   "outputs": [
    {
     "data": {
      "text/plain": [
       "DropoutNetwork(\n",
       "  (l1): Linear(in_features=784, out_features=1200, bias=True)\n",
       "  (bn1): BatchNorm1d(1200, eps=1e-05, momentum=0.1, affine=True, track_running_stats=True)\n",
       "  (relu1): LeakyReLU(negative_slope=0.01)\n",
       "  (drop1): Dropout(p=0.25, inplace=False)\n",
       "  (l2): Linear(in_features=1200, out_features=1200, bias=True)\n",
       "  (relu2): LeakyReLU(negative_slope=0.01)\n",
       "  (drop2): Dropout(p=0.5, inplace=False)\n",
       "  (l3): Linear(in_features=1200, out_features=1200, bias=True)\n",
       "  (relu3): LeakyReLU(negative_slope=0.01)\n",
       "  (drop3): Dropout(p=0.25, inplace=False)\n",
       "  (l4): Linear(in_features=1200, out_features=400, bias=True)\n",
       "  (relu4): LeakyReLU(negative_slope=0.01)\n",
       "  (drop4): Dropout(p=0.5, inplace=False)\n",
       "  (l5): Linear(in_features=400, out_features=100, bias=True)\n",
       "  (relu5): LeakyReLU(negative_slope=0.01)\n",
       "  (l6): Linear(in_features=100, out_features=10, bias=True)\n",
       ")"
      ]
     },
     "execution_count": 174,
     "metadata": {},
     "output_type": "execute_result"
    }
   ],
   "source": [
    "class DropoutNetwork(nn.Module):\n",
    "    def __init__(self):\n",
    "        super(DropoutNetwork, self).__init__()\n",
    "        self.l1 = nn.Linear(sizes[0], sizes[1])\n",
    "        self.bn1 = nn.BatchNorm1d(num_features=sizes[1])\n",
    "        self.relu1 = nn.LeakyReLU()\n",
    "        self.drop1 = nn.Dropout(0.25)\n",
    "        self.l2 = nn.Linear(sizes[1], sizes[2])\n",
    "        self.relu2 = nn.LeakyReLU()\n",
    "        self.drop2 = nn.Dropout(0.5)\n",
    "        self.l3 = nn.Linear(sizes[2], sizes[3])\n",
    "        self.relu3 = nn.LeakyReLU()\n",
    "        self.drop3 = nn.Dropout(0.25)\n",
    "        self.l4 = nn.Linear(sizes[3], sizes[4])\n",
    "        self.relu4 = nn.LeakyReLU()\n",
    "        self.drop4 = nn.Dropout(0.5)\n",
    "        self.l5 = nn.Linear(sizes[4], sizes[5])\n",
    "        self.relu5 = nn.LeakyReLU()\n",
    "        self.l6 = nn.Linear(sizes[5], sizes[6])\n",
    "        \n",
    "    def forward(self, x):\n",
    "        x = self.bn1(self.l1(x))\n",
    "        x = F.relu(x)\n",
    "        x = self.relu1(x)\n",
    "        x = self.drop1(x)\n",
    "        x = self.l2(x)\n",
    "        x = self.relu2(x)\n",
    "        x = self.drop2(x)\n",
    "        x = self.l3(x)\n",
    "        x = self.relu3(x)\n",
    "        x = self.drop3(x)\n",
    "        x = self.l4(x)\n",
    "        x = self.relu4(x)\n",
    "        x = self.drop4(x)\n",
    "        x = self.l5(x)\n",
    "        x = self.relu5(x)\n",
    "        x = self.l6(x)\n",
    "        return F.log_softmax(x, dim=0)\n",
    "\n",
    "d_network = DropoutNetwork()\n",
    "d_network.to(device)"
   ]
  },
  {
   "cell_type": "code",
   "execution_count": 175,
   "metadata": {},
   "outputs": [],
   "source": [
    "x_norm_tensor = torch.FloatTensor((X_train - mu) / std)\n",
    "y_norm_tensor = torch.LongTensor(y_train)\n",
    "\n",
    "optimizer = optim.Adagrad(d_network.parameters(), lr=learning_rate)"
   ]
  },
  {
   "cell_type": "code",
   "execution_count": 150,
   "metadata": {},
   "outputs": [
    {
     "name": "stdout",
     "output_type": "stream",
     "text": [
      "Epoch0:\tloss: 0.447742\n",
      "Epoch10:\tloss: 0.232536\n",
      "Epoch20:\tloss: 0.146050\n",
      "Epoch30:\tloss: 0.105410\n",
      "Epoch40:\tloss: 0.092520\n",
      "Epoch50:\tloss: 0.071526\n",
      "Epoch60:\tloss: 0.045665\n",
      "Epoch70:\tloss: 0.040764\n",
      "Epoch80:\tloss: 0.038154\n",
      "Epoch90:\tloss: 0.024794\n"
     ]
    }
   ],
   "source": [
    "norm_loss_data = []\n",
    "\n",
    "for e in range(epochs):\n",
    "    for i in range(0, n - step, step):\n",
    "        x_i = x_norm_tensor[i:i + step].to(devide)\n",
    "        y_i = y_norm_tensor[i:i + step].to(devide)\n",
    "        \n",
    "        optimizer.zero_grad()\n",
    "        predict = d_network(x_i)\n",
    "        \n",
    "        loss = loss_func(predict, y_i)\n",
    "        loss.backward()\n",
    "        optimizer.step()\n",
    "        \n",
    "        if i % 1000 == 0:\n",
    "            norm_loss_data.append(loss.data)\n",
    "    if e % 10 == 0:    \n",
    "        print(f'Epoch{e}:\\tloss: {loss.data:.6f}')"
   ]
  },
  {
   "cell_type": "code",
   "execution_count": 164,
   "metadata": {},
   "outputs": [
    {
     "data": {
      "image/png": "[encoded data removed]",
      "text/plain": [
       "<Figure size 576x432 with 1 Axes>"
      ]
     },
     "metadata": {
      "needs_background": "light"
     },
     "output_type": "display_data"
    }
   ],
   "source": [
    "network.eval();\n",
    "draw(norm_loss_data)"
   ]
  },
  {
   "cell_type": "markdown",
   "metadata": {},
   "source": [
    "### 4. dynamic learning rate"
   ]
  },
  {
   "cell_type": "code",
   "execution_count": 178,
   "metadata": {},
   "outputs": [],
   "source": [
    "from torch.optim.lr_scheduler import ReduceLROnPlateau\n",
    "\n",
    "epochs = 40\n",
    "learning_rate = 0.1\n",
    "optimizer = torch.optim.SGD(d_network.parameters(), lr=learning_rate, momentum=0.9, nesterov=True)\n",
    "scheduler = ReduceLROnPlateau(optimizer, mode='max', factor=0.1, patience=0, verbose=True)"
   ]
  },
  {
   "cell_type": "code",
   "execution_count": 179,
   "metadata": {},
   "outputs": [
    {
     "name": "stdout",
     "output_type": "stream",
     "text": [
      "Epoch#0:\tloss: 0.228552\taccuracy: 0.888117\n",
      "Epoch     4: reducing learning rate of group 0 to 1.0000e-02.\n",
      "Epoch     6: reducing learning rate of group 0 to 1.0000e-03.\n",
      "Epoch     8: reducing learning rate of group 0 to 1.0000e-04.\n",
      "Epoch    10: reducing learning rate of group 0 to 1.0000e-05.\n",
      "Epoch#10:\tloss: 0.132488\taccuracy: 0.909212\n",
      "Epoch    11: reducing learning rate of group 0 to 1.0000e-06.\n",
      "Epoch    12: reducing learning rate of group 0 to 1.0000e-07.\n",
      "Epoch    13: reducing learning rate of group 0 to 1.0000e-08.\n",
      "Epoch#20:\tloss: 0.124134\taccuracy: 0.909212\n",
      "Epoch#30:\tloss: 0.119830\taccuracy: 0.906008\n"
     ]
    }
   ],
   "source": [
    "loss_data = []\n",
    "\n",
    "for e in range(epochs):\n",
    "    for i in range(0, n - step, step):\n",
    "        x_i = x_norm_tensor[i:i + step].to(devide)\n",
    "        y_i = y_norm_tensor[i:i + step].to(devide)\n",
    "        \n",
    "        optimizer.zero_grad()\n",
    "        predict = xd(x_i)\n",
    "        \n",
    "        loss = loss_func(predict, y_i)\n",
    "        loss.backward()\n",
    "        optimizer.step()\n",
    "        \n",
    "        if i % 1000 == 0:\n",
    "            loss_data.append(loss.data)\n",
    "    accuracy = get_accuracy(d_network, True)\n",
    "    if e % 10 == 0:\n",
    "        print(f'Epoch#{e}:\\tloss: {loss.data:.6f}\\taccuracy: {accuracy:.6f}')\n",
    "    scheduler.step(accuracy)"
   ]
  },
  {
   "cell_type": "code",
   "execution_count": 188,
   "metadata": {},
   "outputs": [
    {
     "data": {
      "image/png": "[encoded data removed]",
      "text/plain": [
       "<Figure size 576x432 with 1 Axes>"
      ]
     },
     "metadata": {
      "needs_background": "light"
     },
     "output_type": "display_data"
    }
   ],
   "source": [
    "draw(loss_data)\n",
    "d_network.eval();"
   ]
  },
  {
   "cell_type": "code",
   "execution_count": 189,
   "metadata": {},
   "outputs": [
    {
     "name": "stdout",
     "output_type": "stream",
     "text": [
      "score:\t91.51%\n"
     ]
    }
   ],
   "source": [
    "test_score = get_accuracy(d_network, True)\n",
    "print(f'score:\\t{test_score * 100:.2f}%')"
   ]
  }
 ],
 "metadata": {
  "kernelspec": {
   "display_name": "Python 3",
   "language": "python",
   "name": "python3"
  },
  "language_info": {
   "codemirror_mode": {
    "name": "ipython",
    "version": 3
   },
   "file_extension": ".py",
   "mimetype": "text/x-python",
   "name": "python",
   "nbconvert_exporter": "python",
   "pygments_lexer": "ipython3",
   "version": "3.6.9"
  }
 },
 "nbformat": 4,
 "nbformat_minor": 2
}
