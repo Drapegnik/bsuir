{
 "cells": [
  {
   "cell_type": "markdown",
   "metadata": {},
   "source": [
    "# ml lab2"
   ]
  },
  {
   "cell_type": "code",
   "execution_count": 25,
   "metadata": {},
   "outputs": [],
   "source": [
    "import numpy as np\n",
    "import pandas as pd\n",
    "import matplotlib.pyplot as plt\n",
    "import scipy.optimize as opt\n",
    "\n",
    "pd.set_option('display.max_rows', 10)"
   ]
  },
  {
   "cell_type": "markdown",
   "metadata": {},
   "source": [
    "### 1. read ex1 data"
   ]
  },
  {
   "cell_type": "code",
   "execution_count": 296,
   "metadata": {},
   "outputs": [
    {
     "data": {
      "text/html": [
       "<div>\n",
       "<style scoped>\n",
       "    .dataframe tbody tr th:only-of-type {\n",
       "        vertical-align: middle;\n",
       "    }\n",
       "\n",
       "    .dataframe tbody tr th {\n",
       "        vertical-align: top;\n",
       "    }\n",
       "\n",
       "    .dataframe thead th {\n",
       "        text-align: right;\n",
       "    }\n",
       "</style>\n",
       "<table border=\"1\" class=\"dataframe\">\n",
       "  <thead>\n",
       "    <tr style=\"text-align: right;\">\n",
       "      <th></th>\n",
       "      <th>Grade1</th>\n",
       "      <th>Grade2</th>\n",
       "      <th>Accepted</th>\n",
       "    </tr>\n",
       "  </thead>\n",
       "  <tbody>\n",
       "    <tr>\n",
       "      <th>0</th>\n",
       "      <td>34.623660</td>\n",
       "      <td>78.024693</td>\n",
       "      <td>0.0</td>\n",
       "    </tr>\n",
       "    <tr>\n",
       "      <th>1</th>\n",
       "      <td>30.286711</td>\n",
       "      <td>43.894998</td>\n",
       "      <td>0.0</td>\n",
       "    </tr>\n",
       "    <tr>\n",
       "      <th>2</th>\n",
       "      <td>35.847409</td>\n",
       "      <td>72.902198</td>\n",
       "      <td>0.0</td>\n",
       "    </tr>\n",
       "    <tr>\n",
       "      <th>3</th>\n",
       "      <td>60.182599</td>\n",
       "      <td>86.308552</td>\n",
       "      <td>1.0</td>\n",
       "    </tr>\n",
       "    <tr>\n",
       "      <th>4</th>\n",
       "      <td>79.032736</td>\n",
       "      <td>75.344376</td>\n",
       "      <td>1.0</td>\n",
       "    </tr>\n",
       "    <tr>\n",
       "      <th>...</th>\n",
       "      <td>...</td>\n",
       "      <td>...</td>\n",
       "      <td>...</td>\n",
       "    </tr>\n",
       "    <tr>\n",
       "      <th>95</th>\n",
       "      <td>83.489163</td>\n",
       "      <td>48.380286</td>\n",
       "      <td>1.0</td>\n",
       "    </tr>\n",
       "    <tr>\n",
       "      <th>96</th>\n",
       "      <td>42.261701</td>\n",
       "      <td>87.103851</td>\n",
       "      <td>1.0</td>\n",
       "    </tr>\n",
       "    <tr>\n",
       "      <th>97</th>\n",
       "      <td>99.315009</td>\n",
       "      <td>68.775409</td>\n",
       "      <td>1.0</td>\n",
       "    </tr>\n",
       "    <tr>\n",
       "      <th>98</th>\n",
       "      <td>55.340018</td>\n",
       "      <td>64.931938</td>\n",
       "      <td>1.0</td>\n",
       "    </tr>\n",
       "    <tr>\n",
       "      <th>99</th>\n",
       "      <td>74.775893</td>\n",
       "      <td>89.529813</td>\n",
       "      <td>1.0</td>\n",
       "    </tr>\n",
       "  </tbody>\n",
       "</table>\n",
       "<p>100 rows × 3 columns</p>\n",
       "</div>"
      ],
      "text/plain": [
       "       Grade1     Grade2  Accepted\n",
       "0   34.623660  78.024693       0.0\n",
       "1   30.286711  43.894998       0.0\n",
       "2   35.847409  72.902198       0.0\n",
       "3   60.182599  86.308552       1.0\n",
       "4   79.032736  75.344376       1.0\n",
       "..        ...        ...       ...\n",
       "95  83.489163  48.380286       1.0\n",
       "96  42.261701  87.103851       1.0\n",
       "97  99.315009  68.775409       1.0\n",
       "98  55.340018  64.931938       1.0\n",
       "99  74.775893  89.529813       1.0\n",
       "\n",
       "[100 rows x 3 columns]"
      ]
     },
     "execution_count": 296,
     "metadata": {},
     "output_type": "execute_result"
    }
   ],
   "source": [
    "data1 = pd.DataFrame(np.genfromtxt('data/ex2data1.txt', delimiter=','), columns=['Grade1', 'Grade2', 'Accepted'])\n",
    "data1"
   ]
  },
  {
   "cell_type": "markdown",
   "metadata": {},
   "source": [
    "### 2. plot data"
   ]
  },
  {
   "cell_type": "code",
   "execution_count": 297,
   "metadata": {},
   "outputs": [
    {
     "data": {
      "image/png": "[encoded data removed]",
      "text/plain": [
       "<Figure size 432x288 with 1 Axes>"
      ]
     },
     "metadata": {
      "needs_background": "light"
     },
     "output_type": "display_data"
    }
   ],
   "source": [
    "def get_plot(data, x_label = 'Grade1', y_label = 'Grade2'):\n",
    "    plt.figure()\n",
    "    ax = data.loc[data.Accepted == 1].plot(x=x_label, y=y_label, style=['gx'], label='Accepted')\n",
    "    ay = data.loc[data.Accepted == 0].plot(x=x_label, y=y_label, style=['rx'], label='Not Accepted', ax=ax)\n",
    "    ax.set_xlabel(x_label)\n",
    "    ax.set_ylabel(y_label)\n",
    "    plt.legend()\n",
    "    return plt, ax\n",
    "\n",
    "def plot_data(data, label_x='Grade1', label_y='Grade2', axes=None):\n",
    "    pos = data.loc[data.Accepted == 1]\n",
    "    neg = data.loc[data.Accepted == 0]\n",
    "    \n",
    "    if axes == None:\n",
    "        axes = plt.gca()\n",
    "    \n",
    "    axes.scatter(pos[label_x], pos[label_y], marker='x', c='g', s=30, label='Accepted')\n",
    "    axes.scatter(neg[label_x], neg[label_y], c='r', s=30, label='Not Accepted')\n",
    "    axes.set_xlabel(label_x)\n",
    "    axes.set_ylabel(label_y)\n",
    "    axes.legend(frameon= True, fancybox = True)\n",
    "\n",
    "plot_data(data1)"
   ]
  },
  {
   "cell_type": "markdown",
   "metadata": {},
   "source": [
    "### 3. cost function J(θ) + gradient descent"
   ]
  },
  {
   "cell_type": "code",
   "execution_count": 298,
   "metadata": {},
   "outputs": [],
   "source": [
    "def sigmoid(X):\n",
    "    return 1 / (1 + np.exp(-X))\n",
    "\n",
    "def cost_function(theta, X, y):\n",
    "    m = y.size\n",
    "    h = sigmoid(X @ theta)\n",
    "    J = (-1 / m) * ((y.T @ np.log(h)) + ((1 - y).T @ np.log(1 - h)))\n",
    "    error = h - y\n",
    "    gd = (1 / m) * (X.T @ error)\n",
    "    return J, gd"
   ]
  },
  {
   "cell_type": "code",
   "execution_count": 299,
   "metadata": {},
   "outputs": [
    {
     "name": "stdout",
     "output_type": "stream",
     "text": [
      "Cost with initial_theta:\t0.6931471805599452\n",
      "Gradient with initial_theta:\t[ -0.1        -12.00921659 -11.26284221]\n"
     ]
    }
   ],
   "source": [
    "m, n = data1.shape\n",
    "initial_theta = np.zeros(n)\n",
    "\n",
    "X = data1[['Grade1', 'Grade2']]\n",
    "X.insert(0, 'theta_0', 1)\n",
    "y = data1['Accepted']\n",
    "\n",
    "cost, gd = cost_function(initial_theta, X, y)\n",
    "print(f'Cost with initial_theta:\\t{cost}')\n",
    "print(f'Gradient with initial_theta:\\t{gd.ravel()}')"
   ]
  },
  {
   "cell_type": "markdown",
   "metadata": {},
   "source": [
    "### 4. optimize cost"
   ]
  },
  {
   "cell_type": "code",
   "execution_count": 300,
   "metadata": {},
   "outputs": [],
   "source": [
    "def optimize_cost(theta, X, y):\n",
    "    cost, _ = cost_function(theta, X, y)\n",
    "    return cost\n",
    "\n",
    "def optimize_gradient(theta, X, y):\n",
    "    _, gd = cost_function(theta, X, y)\n",
    "    return gd\n",
    "\n",
    "def optimize(func, gradient, X, y, method):\n",
    "    initial_theta = np.zeros(n)\n",
    "    \n",
    "    result = opt.minimize(fun=func, x0=initial_theta, args=(X, y), method=method, jac=gradient)\n",
    "    theta = result.x\n",
    "    cost = func(theta, X, y)\n",
    "    \n",
    "    print(f'theta:\\t{theta.ravel()}\\ncost:\\t{cost}')\n",
    "    return result"
   ]
  },
  {
   "cell_type": "markdown",
   "metadata": {},
   "source": [
    "#### Nelder-Mead"
   ]
  },
  {
   "cell_type": "code",
   "execution_count": 301,
   "metadata": {},
   "outputs": [
    {
     "name": "stdout",
     "output_type": "stream",
     "text": [
      "theta:\t[-25.16130062   0.20623142   0.20147143]\n",
      "cost:\t0.2034977015902151\n"
     ]
    },
    {
     "data": {
      "text/plain": [
       " final_simplex: (array([[-25.16130062,   0.20623142,   0.20147143],\n",
       "       [-25.16135807,   0.20623176,   0.20147199],\n",
       "       [-25.1613519 ,   0.20623203,   0.20147171],\n",
       "       [-25.16137971,   0.20623202,   0.20147188]]), array([0.2034977, 0.2034977, 0.2034977, 0.2034977]))\n",
       "           fun: 0.2034977015902151\n",
       "       message: 'Optimization terminated successfully.'\n",
       "          nfev: 287\n",
       "           nit: 157\n",
       "        status: 0\n",
       "       success: True\n",
       "             x: array([-25.16130062,   0.20623142,   0.20147143])"
      ]
     },
     "execution_count": 301,
     "metadata": {},
     "output_type": "execute_result"
    }
   ],
   "source": [
    "result = optimize(optimize_cost, optimize_gradient, X, y, 'Nelder-Mead')\n",
    "result"
   ]
  },
  {
   "cell_type": "markdown",
   "metadata": {},
   "source": [
    "#### Broyden-Fletcher-Goldfarb-Shanno"
   ]
  },
  {
   "cell_type": "code",
   "execution_count": 302,
   "metadata": {},
   "outputs": [
    {
     "name": "stdout",
     "output_type": "stream",
     "text": [
      "theta:\t[-25.16133284   0.2062317    0.2014716 ]\n",
      "cost:\t0.20349770158944375\n"
     ]
    },
    {
     "name": "stderr",
     "output_type": "stream",
     "text": [
      "/Users/drapegnik/.pyenv/versions/3.7.4/envs/bsuir/lib/python3.7/site-packages/ipykernel_launcher.py:7: RuntimeWarning: divide by zero encountered in log\n",
      "  import sys\n"
     ]
    },
    {
     "data": {
      "text/plain": [
       "      fun: 0.20349770158944375\n",
       " hess_inv: array([[ 3.31474479e+03, -2.63892205e+01, -2.70237122e+01],\n",
       "       [-2.63892205e+01,  2.23869433e-01,  2.02682332e-01],\n",
       "       [-2.70237122e+01,  2.02682332e-01,  2.35335117e-01]])\n",
       "      jac: theta_0   -9.524768e-09\n",
       "Grade1    -9.319213e-07\n",
       "Grade2    -2.826089e-07\n",
       "dtype: float64\n",
       "  message: 'Optimization terminated successfully.'\n",
       "     nfev: 31\n",
       "      nit: 23\n",
       "     njev: 31\n",
       "   status: 0\n",
       "  success: True\n",
       "        x: array([-25.16133284,   0.2062317 ,   0.2014716 ])"
      ]
     },
     "execution_count": 302,
     "metadata": {},
     "output_type": "execute_result"
    }
   ],
   "source": [
    "result = optimize(optimize_cost, optimize_gradient, X, y, 'BFGS')\n",
    "result"
   ]
  },
  {
   "cell_type": "markdown",
   "metadata": {},
   "source": [
    "### 5. predict function"
   ]
  },
  {
   "cell_type": "code",
   "execution_count": 303,
   "metadata": {},
   "outputs": [
    {
     "name": "stdout",
     "output_type": "stream",
     "text": [
      "With Grades [57 79], probability of acceptance is: 0.924848961903417\n"
     ]
    }
   ],
   "source": [
    "def predict(theta, X):\n",
    "    predict = sigmoid(np.dot(X, theta))\n",
    "    return predict > 0.5\n",
    "\n",
    "theta = result.x\n",
    "sample = np.array([1, 57, 79])\n",
    "probability = sigmoid(sample @ theta)\n",
    "print(f'With Grades {sample[1:]}, probability of acceptance is: {probability}')"
   ]
  },
  {
   "cell_type": "code",
   "execution_count": 304,
   "metadata": {},
   "outputs": [
    {
     "name": "stdout",
     "output_type": "stream",
     "text": [
      "Train Accuracy: 89.0%\n"
     ]
    }
   ],
   "source": [
    "def get_accuracy(theta, X, y):\n",
    "    p = predict(theta, X)\n",
    "    return y[p == y].size / y.size * 100\n",
    "print(f'Train Accuracy: {get_accuracy(theta, X, y)}%')"
   ]
  },
  {
   "cell_type": "markdown",
   "metadata": {},
   "source": [
    "### 6. decision surface"
   ]
  },
  {
   "cell_type": "code",
   "execution_count": 305,
   "metadata": {},
   "outputs": [
    {
     "data": {
      "text/plain": [
       "<Figure size 432x288 with 0 Axes>"
      ]
     },
     "metadata": {},
     "output_type": "display_data"
    },
    {
     "data": {
      "image/png": "[encoded data removed]",
      "text/plain": [
       "<Figure size 432x288 with 1 Axes>"
      ]
     },
     "metadata": {
      "needs_background": "light"
     },
     "output_type": "display_data"
    }
   ],
   "source": [
    "plot, ax = get_plot(data1)\n",
    "slope = -(theta[1] / theta[2])\n",
    "intercept = -(theta[0] / theta[2])\n",
    "\n",
    "xs = np.array(ax.get_xlim())\n",
    "ys = intercept + (slope * xs)\n",
    "\n",
    "plot.plot(xs, ys);\n",
    "plot.show()"
   ]
  },
  {
   "cell_type": "markdown",
   "metadata": {},
   "source": [
    "### 7. read ex2 data"
   ]
  },
  {
   "cell_type": "code",
   "execution_count": 306,
   "metadata": {},
   "outputs": [
    {
     "data": {
      "text/html": [
       "<div>\n",
       "<style scoped>\n",
       "    .dataframe tbody tr th:only-of-type {\n",
       "        vertical-align: middle;\n",
       "    }\n",
       "\n",
       "    .dataframe tbody tr th {\n",
       "        vertical-align: top;\n",
       "    }\n",
       "\n",
       "    .dataframe thead th {\n",
       "        text-align: right;\n",
       "    }\n",
       "</style>\n",
       "<table border=\"1\" class=\"dataframe\">\n",
       "  <thead>\n",
       "    <tr style=\"text-align: right;\">\n",
       "      <th></th>\n",
       "      <th>Test1</th>\n",
       "      <th>Test2</th>\n",
       "      <th>Accepted</th>\n",
       "    </tr>\n",
       "  </thead>\n",
       "  <tbody>\n",
       "    <tr>\n",
       "      <th>0</th>\n",
       "      <td>0.051267</td>\n",
       "      <td>0.699560</td>\n",
       "      <td>1.0</td>\n",
       "    </tr>\n",
       "    <tr>\n",
       "      <th>1</th>\n",
       "      <td>-0.092742</td>\n",
       "      <td>0.684940</td>\n",
       "      <td>1.0</td>\n",
       "    </tr>\n",
       "    <tr>\n",
       "      <th>2</th>\n",
       "      <td>-0.213710</td>\n",
       "      <td>0.692250</td>\n",
       "      <td>1.0</td>\n",
       "    </tr>\n",
       "    <tr>\n",
       "      <th>3</th>\n",
       "      <td>-0.375000</td>\n",
       "      <td>0.502190</td>\n",
       "      <td>1.0</td>\n",
       "    </tr>\n",
       "    <tr>\n",
       "      <th>4</th>\n",
       "      <td>-0.513250</td>\n",
       "      <td>0.465640</td>\n",
       "      <td>1.0</td>\n",
       "    </tr>\n",
       "    <tr>\n",
       "      <th>...</th>\n",
       "      <td>...</td>\n",
       "      <td>...</td>\n",
       "      <td>...</td>\n",
       "    </tr>\n",
       "    <tr>\n",
       "      <th>113</th>\n",
       "      <td>-0.720620</td>\n",
       "      <td>0.538740</td>\n",
       "      <td>0.0</td>\n",
       "    </tr>\n",
       "    <tr>\n",
       "      <th>114</th>\n",
       "      <td>-0.593890</td>\n",
       "      <td>0.494880</td>\n",
       "      <td>0.0</td>\n",
       "    </tr>\n",
       "    <tr>\n",
       "      <th>115</th>\n",
       "      <td>-0.484450</td>\n",
       "      <td>0.999270</td>\n",
       "      <td>0.0</td>\n",
       "    </tr>\n",
       "    <tr>\n",
       "      <th>116</th>\n",
       "      <td>-0.006336</td>\n",
       "      <td>0.999270</td>\n",
       "      <td>0.0</td>\n",
       "    </tr>\n",
       "    <tr>\n",
       "      <th>117</th>\n",
       "      <td>0.632650</td>\n",
       "      <td>-0.030612</td>\n",
       "      <td>0.0</td>\n",
       "    </tr>\n",
       "  </tbody>\n",
       "</table>\n",
       "<p>118 rows × 3 columns</p>\n",
       "</div>"
      ],
      "text/plain": [
       "        Test1     Test2  Accepted\n",
       "0    0.051267  0.699560       1.0\n",
       "1   -0.092742  0.684940       1.0\n",
       "2   -0.213710  0.692250       1.0\n",
       "3   -0.375000  0.502190       1.0\n",
       "4   -0.513250  0.465640       1.0\n",
       "..        ...       ...       ...\n",
       "113 -0.720620  0.538740       0.0\n",
       "114 -0.593890  0.494880       0.0\n",
       "115 -0.484450  0.999270       0.0\n",
       "116 -0.006336  0.999270       0.0\n",
       "117  0.632650 -0.030612       0.0\n",
       "\n",
       "[118 rows x 3 columns]"
      ]
     },
     "execution_count": 306,
     "metadata": {},
     "output_type": "execute_result"
    }
   ],
   "source": [
    "data2 = pd.DataFrame(np.genfromtxt('data/ex2data2.txt', delimiter=','), columns=['Test1', 'Test2', 'Accepted'])\n",
    "data2"
   ]
  },
  {
   "cell_type": "markdown",
   "metadata": {},
   "source": [
    "### 8. plot data"
   ]
  },
  {
   "cell_type": "code",
   "execution_count": 307,
   "metadata": {},
   "outputs": [
    {
     "data": {
      "image/png": "[encoded data removed]",
      "text/plain": [
       "<Figure size 432x288 with 1 Axes>"
      ]
     },
     "metadata": {
      "needs_background": "light"
     },
     "output_type": "display_data"
    }
   ],
   "source": [
    "plot_data(data2, 'Test1', 'Test2')"
   ]
  },
  {
   "cell_type": "markdown",
   "metadata": {},
   "source": [
    "### 9. map features"
   ]
  },
  {
   "cell_type": "code",
   "execution_count": 308,
   "metadata": {},
   "outputs": [
    {
     "data": {
      "text/plain": [
       "(118, 28)"
      ]
     },
     "execution_count": 308,
     "metadata": {},
     "output_type": "execute_result"
    }
   ],
   "source": [
    "def map_feature(x1, x2, degree=6):\n",
    "    '''\n",
    "    Maps the two input features to quadratic features.\n",
    "    Returns features array:\n",
    "        x1, x2, x1**2, x2**2, x1*x2, x1*x2**2...\n",
    "    '''\n",
    "    x1.shape = (x1.size, 1)\n",
    "    x2.shape = (x2.size, 1)\n",
    "    result = np.ones(shape=(x1[:, 0].size, 1))\n",
    "    m, n = result.shape\n",
    "\n",
    "    for i in range(1, degree + 1):\n",
    "        for j in range(i + 1):\n",
    "            r = (x1 ** (i - j)) * (x2 ** j)\n",
    "            result = np.append(result, r, axis=1)\n",
    "\n",
    "    return result\n",
    "\n",
    "x1 = np.array(data2['Test1'])\n",
    "x2 = np.array(data2['Test2'])\n",
    "mapped = map_feature(x1, x2)\n",
    "mapped.shape"
   ]
  },
  {
   "cell_type": "markdown",
   "metadata": {},
   "source": [
    "### 10. l2 regularization with gradient descent"
   ]
  },
  {
   "cell_type": "code",
   "execution_count": 309,
   "metadata": {},
   "outputs": [],
   "source": [
    "def cost_function_reg(theta, X, y, l=1):\n",
    "    h = sigmoid(X.dot(theta))\n",
    "    thetaR = theta[1:, 0]\n",
    "\n",
    "    J = (-1.0 / m) * ((y.T @ np.log(h)) + ((1 - y.T) @ np.log(1.0 - h))) + (l / (2.0 * m)) * (thetaR.T @ thetaR)\n",
    "\n",
    "    y.shape = h.shape\n",
    "    delta = h - y\n",
    "    sumdelta = delta.T @ X[:, 1]\n",
    "    grad1 = (1.0 / m) * sumdelta\n",
    "\n",
    "    XR = X[:, 1:X.shape[1]]\n",
    "    sumdelta = delta.T @ XR\n",
    "\n",
    "    grad = (1.0 / m) * (sumdelta + l * thetaR)\n",
    "\n",
    "    out = np.zeros(shape=(grad.shape[0], grad.shape[1] + 1))\n",
    "\n",
    "    out[:, 0] = grad1\n",
    "    out[:, 1:] = grad\n",
    "\n",
    "    return J.flatten(), out.T.flatten()\n",
    "\n",
    "def gradient_reg(theta, X, y, l=1, alpha=0.2, num_iters=400):\n",
    "    m = y.size\n",
    "    j_history = []\n",
    "    for i in range(0, num_iters):\n",
    "        cost, grad = cost_function_reg(theta, X, y, l)\n",
    "        grad.shape = theta.shape\n",
    "        theta -= alpha * grad\n",
    "        j_history.append(cost)\n",
    "\n",
    "    return theta, j_history"
   ]
  },
  {
   "cell_type": "code",
   "execution_count": 310,
   "metadata": {},
   "outputs": [
    {
     "name": "stdout",
     "output_type": "stream",
     "text": [
      "Initial Cost:\t[0.69314718]\n"
     ]
    }
   ],
   "source": [
    "m, n = data2.shape\n",
    "\n",
    "y = np.array(data2['Accepted'])\n",
    "y.shape = (m, 1)\n",
    "initial_theta = np.zeros(shape=(mapped.shape[1], 1))\n",
    "\n",
    "cost, _ = cost_function_reg(initial_theta, mapped, y)\n",
    "print(f'Initial Cost:\\t{cost}')\n",
    "\n",
    "gd_theta, _ = gradient_reg(initial_theta, mapped, y)"
   ]
  },
  {
   "cell_type": "markdown",
   "metadata": {},
   "source": [
    "### 11. other regularization functions"
   ]
  },
  {
   "cell_type": "code",
   "execution_count": 311,
   "metadata": {},
   "outputs": [],
   "source": [
    "def reshape_decorator(return_type):\n",
    "    def reshape_theta(theta, X, y):\n",
    "        theta.shape = (mapped.shape[1], 1)\n",
    "        cost, grad = cost_function_reg(theta, X, y)\n",
    "        theta.shape = (mapped.shape[1],)\n",
    "        return cost if return_type == 'cost' else grad\n",
    "    return reshape_theta\n",
    "\n",
    "result = opt.minimize(\n",
    "    fun=reshape_decorator('cost'),\n",
    "    x0=initial_theta,\n",
    "    args=(mapped, y),\n",
    "    method='BFGS',\n",
    "    jac=reshape_decorator('gd')\n",
    ")\n",
    "bfgs_theta = result.x\n",
    "bfgs_theta.shape = (mapped.shape[1], 1)"
   ]
  },
  {
   "cell_type": "markdown",
   "metadata": {},
   "source": [
    "### 12. predict function"
   ]
  },
  {
   "cell_type": "code",
   "execution_count": 313,
   "metadata": {},
   "outputs": [
    {
     "name": "stdout",
     "output_type": "stream",
     "text": [
      "GD Train Accuracy: 80.50847457627118%\n",
      "BFGS Train Accuracy: 82.20338983050848%\n"
     ]
    }
   ],
   "source": [
    "print(f'GD Train Accuracy: {get_accuracy(gd_theta, mapped, y)}%')\n",
    "print(f'BFGS Train Accuracy: {get_accuracy(bfgs_theta, mapped, y)}%')"
   ]
  },
  {
   "cell_type": "markdown",
   "metadata": {},
   "source": [
    "### 13-14. decision surface + different  λ"
   ]
  },
  {
   "cell_type": "code",
   "execution_count": 328,
   "metadata": {},
   "outputs": [],
   "source": [
    "def get_contour(theta):\n",
    "    u = np.linspace(-1, 1.5)\n",
    "    v = np.linspace(-1, 1.5)\n",
    "    z = np.zeros(shape=(len(u), len(v)))\n",
    "    for i in range(len(u)):\n",
    "        for j in range(len(v)):\n",
    "            z[i, j] = map_feature(np.array(u[i]), np.array(v[j])).dot(np.array(theta))\n",
    "    return u, v, z.T"
   ]
  },
  {
   "cell_type": "code",
   "execution_count": 329,
   "metadata": {},
   "outputs": [
    {
     "data": {
      "image/png": "[encoded data removed]",
      "text/plain": [
       "<Figure size 864x720 with 4 Axes>"
      ]
     },
     "metadata": {
      "needs_background": "light"
     },
     "output_type": "display_data"
    }
   ],
   "source": [
    "LAMBDAS = [0, 1, 5, 50]\n",
    "fig, axes = plt.subplots(2, 2, sharey = True, figsize=(12, 10))\n",
    "\n",
    "for i, reg_lambda in enumerate(LAMBDAS):\n",
    "    initial_theta = np.zeros(shape=(mapped.shape[1], 1))\n",
    "    theta, _ = gradient_reg(initial_theta, mapped, y, reg_lambda, 0.2, 1000)    \n",
    "    accuracy = np.round(get_accuracy(theta, mapped, y), decimals=2)\n",
    "\n",
    "    plot_data(data2, 'Test1', 'Test2', axes.flatten()[i])\n",
    "    u, v, z = get_contour(theta)\n",
    "     \n",
    "    axes.flatten()[i].contour(u, v, z, colors='b', linewidths=1);       \n",
    "    axes.flatten()[i].set_title(f'Train accuracy {accuracy}% with Lambda={reg_lambda}')"
   ]
  },
  {
   "cell_type": "markdown",
   "metadata": {},
   "source": [
    "### 15. read ex3 data"
   ]
  },
  {
   "cell_type": "code",
   "execution_count": 330,
   "metadata": {},
   "outputs": [],
   "source": [
    "import scipy.io\n",
    "\n",
    "data3 = scipy.io.loadmat('data/ex2data3.mat')\n",
    "x = np.array(data3['X'])\n",
    "y = np.squeeze(data3['y'])\n",
    "np.place(y, y == 10, 0)\n",
    "n = x.shape[1]\n",
    "m = x.shape[0]\n",
    "labels_count = 10"
   ]
  },
  {
   "cell_type": "markdown",
   "metadata": {},
   "source": [
    "### 16. visualize data"
   ]
  },
  {
   "cell_type": "code",
   "execution_count": 353,
   "metadata": {},
   "outputs": [
    {
     "data": {
      "image/png": "[encoded data removed]",
      "text/plain": [
       "<Figure size 432x288 with 1 Axes>"
      ]
     },
     "metadata": {
      "needs_background": "light"
     },
     "output_type": "display_data"
    }
   ],
   "source": [
    "import matplotlib.image as mpimg\n",
    "\n",
    "X = np.ones(shape=(x.shape[0], x.shape[1] + 1))\n",
    "X[:, 1:] = x\n",
    "\n",
    "sample = np.random.choice(X.shape[0], 20)\n",
    "plt.imshow(X[sample,1:].reshape(-1, 20).T, cmap='binary')\n",
    "plt.axis('off');"
   ]
  },
  {
   "cell_type": "markdown",
   "metadata": {},
   "source": [
    "### 17-18. vectorizing logistic regression + L2"
   ]
  },
  {
   "cell_type": "markdown",
   "metadata": {},
   "source": [
    "### 19. one-vs-all classification"
   ]
  },
  {
   "cell_type": "code",
   "execution_count": 354,
   "metadata": {},
   "outputs": [],
   "source": [
    "classifiers = np.zeros(shape=(labels_count, n + 1))\n",
    "for i in range(0, labels_count):\n",
    "    label = (y == i).astype(int)\n",
    "    initial_theta = np.zeros(shape=(X.shape[1], 1))\n",
    "    theta, costs = gradient_reg(initial_theta, X, label, 0.4, 2.8, 10000)\n",
    "    classifiers[i, :] = np.squeeze(theta)"
   ]
  },
  {
   "cell_type": "markdown",
   "metadata": {},
   "source": [
    "### 20. predict function"
   ]
  },
  {
   "cell_type": "code",
   "execution_count": 356,
   "metadata": {},
   "outputs": [],
   "source": [
    "def predict_class(input, classifiers):\n",
    "    class_probs = sigmoid(input @ classifiers.transpose())\n",
    "    if len(class_probs.shape) == 1:\n",
    "        class_probs.shape = (1, class_probs.shape[0])\n",
    "    predictions = class_probs.argmax(axis=1)\n",
    "    return predictions"
   ]
  },
  {
   "cell_type": "markdown",
   "metadata": {},
   "source": [
    "### 21. training accuracy"
   ]
  },
  {
   "cell_type": "code",
   "execution_count": 358,
   "metadata": {},
   "outputs": [
    {
     "name": "stdout",
     "output_type": "stream",
     "text": [
      "Training accuracy: 94.74000000000001\n"
     ]
    }
   ],
   "source": [
    "predictions = predict_class(X, classifiers)\n",
    "accuracy = 100 * np.mean(predictions == y)\n",
    "print(f'Training accuracy: {accuracy}')"
   ]
  },
  {
   "cell_type": "markdown",
   "metadata": {},
   "source": [
    "### 22. conclusion"
   ]
  },
  {
   "cell_type": "markdown",
   "metadata": {},
   "source": [
    "В данной лабораторной работе рассмотрена модель логистической регрессии.\n",
    "Реализована `L2`-регуляризация, реализован бинарный классификатор с помощью логистической регрессии, который использовался для реализации многоклассового классификатора по методу \"один против всех\".\n",
    "\n",
    "В пункте #14 показана зависимость результатов от параметра регуляризации `λ`: переобучение или недообучение выборки."
   ]
  },
  {
   "cell_type": "code",
   "execution_count": null,
   "metadata": {},
   "outputs": [],
   "source": []
  }
 ],
 "metadata": {
  "kernelspec": {
   "display_name": "Python 3",
   "language": "python",
   "name": "python3"
  },
  "language_info": {
   "codemirror_mode": {
    "name": "ipython",
    "version": 3
   },
   "file_extension": ".py",
   "mimetype": "text/x-python",
   "name": "python",
   "nbconvert_exporter": "python",
   "pygments_lexer": "ipython3",
   "version": "3.7.4"
  }
 },
 "nbformat": 4,
 "nbformat_minor": 2
}
