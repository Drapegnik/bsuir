{
 "cells": [
  {
   "cell_type": "markdown",
   "metadata": {},
   "source": [
    "# ml lab1"
   ]
  },
  {
   "cell_type": "code",
   "execution_count": 1,
   "metadata": {},
   "outputs": [],
   "source": [
    "import os\n",
    "\n",
    "import numpy as np\n",
    "import matplotlib.pyplot as plt\n",
    "\n",
    "DATA_URL = 'https://commondatastorage.googleapis.com/books1000/notMNIST_small.tar.gz'\n",
    "DATA_DIR = 'data'"
   ]
  },
  {
   "cell_type": "markdown",
   "metadata": {},
   "source": [
    "### 1.1 fetch data"
   ]
  },
  {
   "cell_type": "code",
   "execution_count": 2,
   "metadata": {},
   "outputs": [
    {
     "name": "stdout",
     "output_type": "stream",
     "text": [
      "path:\tdata/notMNIST_small.tar.gz\n",
      "files:\t18737\n"
     ]
    }
   ],
   "source": [
    "import requests\n",
    "import humanize\n",
    "import tarfile\n",
    "\n",
    "filename = os.path.basename(DATA_URL)\n",
    "filepath = f'{DATA_DIR}/{filename}'\n",
    "\n",
    "print(f'path:\\t{filepath}')\n",
    "\n",
    "def fetch():\n",
    "    if os.path.exists(filepath):\n",
    "        return\n",
    "    r = requests.get(DATA_URL)\n",
    "    size = r.headers.get('content-length', 0)\n",
    "    print(f'size:\\t{humanize.naturalsize(size)}')\n",
    "    \n",
    "    os.makedirs(DATA_DIR, exist_ok=True)\n",
    "\n",
    "    with open(filepath, 'wb') as f:\n",
    "        f.write(r.content)\n",
    "\n",
    "\n",
    "def parse():\n",
    "    tar = tarfile.open(filepath)\n",
    "    members = tar.getmembers()\n",
    "    print(f'files:\\t{len(members)}')\n",
    "    sub_folder = members[0].name\n",
    "    tar.extractall(DATA_DIR)\n",
    "    tar.close()\n",
    "    return f'{DATA_DIR}/{sub_folder}'\n",
    "    \n",
    "fetch()\n",
    "data_path = parse()"
   ]
  },
  {
   "cell_type": "markdown",
   "metadata": {},
   "source": [
    "### 1.2 plot data"
   ]
  },
  {
   "cell_type": "code",
   "execution_count": 3,
   "metadata": {},
   "outputs": [
    {
     "data": {
      "image/png": "[encoded data removed]",
      "text/plain": [
       "<Figure size 1440x144 with 10 Axes>"
      ]
     },
     "metadata": {
      "needs_background": "light"
     },
     "output_type": "display_data"
    }
   ],
   "source": [
    "import random\n",
    "\n",
    "letters = sorted(os.listdir(data_path))\n",
    "fig, axs = plt.subplots(1, 10, figsize=(20, 2))\n",
    "\n",
    "for ax in axs:\n",
    "    l = random.choice(letters)\n",
    "    l_dir = f'{data_path}/{l}'\n",
    "    image = random.choice(os.listdir(l_dir))\n",
    "    ax.imshow(plt.imread(f'{l_dir}/{image}'))\n",
    "    ax.set_title(l)\n",
    "    ax.axis('off')"
   ]
  },
  {
   "cell_type": "markdown",
   "metadata": {},
   "source": [
    "### 2. check dataset balance"
   ]
  },
  {
   "cell_type": "code",
   "execution_count": 4,
   "metadata": {},
   "outputs": [
    {
     "name": "stdout",
     "output_type": "stream",
     "text": [
      "total: 18726\n",
      "balanced: 1872.6\n",
      "real:\n"
     ]
    },
    {
     "data": {
      "text/plain": [
       "{'A': 1873,\n",
       " 'B': 1873,\n",
       " 'C': 1873,\n",
       " 'D': 1873,\n",
       " 'E': 1873,\n",
       " 'F': 1873,\n",
       " 'G': 1872,\n",
       " 'H': 1872,\n",
       " 'I': 1872,\n",
       " 'J': 1872}"
      ]
     },
     "execution_count": 4,
     "metadata": {},
     "output_type": "execute_result"
    }
   ],
   "source": [
    "stats = dict()\n",
    "\n",
    "for l in letters:\n",
    "    l_dir = f'{data_path}/{l}'\n",
    "    stats[l] = len(os.listdir(l_dir))\n",
    "    \n",
    "total = sum(stats.values())\n",
    "print(f'total: {total}')\n",
    "print(f'balanced: {total / len(letters)}')\n",
    "print('real:')\n",
    "stats"
   ]
  },
  {
   "cell_type": "markdown",
   "metadata": {},
   "source": [
    "### 3-4. train / test samples + data cleaning"
   ]
  },
  {
   "cell_type": "code",
   "execution_count": 13,
   "metadata": {},
   "outputs": [],
   "source": [
    "import hashlib\n",
    "\n",
    "image_width = 28\n",
    "\n",
    "X = np.zeros((total, image_width, image_width))\n",
    "y = np.zeros((total))\n",
    "i = 0\n",
    "\n",
    "hashes = set()\n",
    "\n",
    "for l_id, letter in enumerate(letters):\n",
    "    l_dir = f'{data_path}/{letter}'\n",
    "    for image in os.listdir(l_dir):\n",
    "        try:\n",
    "            img = plt.imread(f'{l_dir}/{image}')\n",
    "            img_hash = hashlib.sha256(img).hexdigest()\n",
    "            if img_hash in hashes:\n",
    "                continue\n",
    "            hashes.add(img_hash)\n",
    "            X[i, :, :] = img\n",
    "            y[i] = l_id\n",
    "            i += 1\n",
    "        except:\n",
    "            continue"
   ]
  },
  {
   "cell_type": "code",
   "execution_count": 42,
   "metadata": {},
   "outputs": [
    {
     "name": "stdout",
     "output_type": "stream",
     "text": [
      "duplicates:\t2.64%\n"
     ]
    },
    {
     "data": {
      "text/plain": [
       "((18232, 28, 28), 18232)"
      ]
     },
     "execution_count": 42,
     "metadata": {},
     "output_type": "execute_result"
    }
   ],
   "source": [
    "duplicates = (total - i) / total * 100\n",
    "print(f'duplicates:\\t{duplicates:.2f}%')\n",
    "\n",
    "# fit in new size\n",
    "y = y[:i]\n",
    "X = X[:i]\n",
    "\n",
    "X.shape, y.size"
   ]
  },
  {
   "cell_type": "code",
   "execution_count": 43,
   "metadata": {},
   "outputs": [
    {
     "data": {
      "text/plain": [
       "([12762, 3828, 1642], 18232)"
      ]
     },
     "execution_count": 43,
     "metadata": {},
     "output_type": "execute_result"
    }
   ],
   "source": [
    "from sklearn.model_selection import train_test_split\n",
    "\n",
    "X_train, X_temp, y_train, y_temp = train_test_split(X, y, train_size=0.7)\n",
    "X_test, X_val, y_test, y_val = train_test_split(X_temp, y_temp, train_size=0.7)\n",
    "\n",
    "samples_size = [y_train.size, y_test.size, y_val.size]\n",
    "samples_size, sum(samples_size)"
   ]
  },
  {
   "cell_type": "markdown",
   "metadata": {},
   "source": [
    "###  5. build classifier"
   ]
  },
  {
   "cell_type": "code",
   "execution_count": 90,
   "metadata": {},
   "outputs": [
    {
     "name": "stdout",
     "output_type": "stream",
     "text": [
      "> 2552: 86.181%\n",
      "> 5104: 86.677%\n",
      "> 7656: 87.330%\n",
      "> 10208: 86.808%\n",
      "> 12760: 86.729%\n"
     ]
    }
   ],
   "source": [
    "%%capture --no-stdout\n",
    "\n",
    "from sklearn.linear_model import LogisticRegression\n",
    "from sklearn.metrics import accuracy_score\n",
    "\n",
    "def get_score(_clf, X, y):\n",
    "    predict = _clf.predict(X.reshape(X.shape[0], -1))\n",
    "    return accuracy_score(predict, y)    \n",
    "\n",
    "clf = LogisticRegression(random_state=42, max_iter=1500)\n",
    "\n",
    "train_total = len(X_train)\n",
    "runs = 5\n",
    "step = train_total // runs\n",
    "\n",
    "test_scores = []\n",
    "val_scores = []\n",
    "sizes = range(step, train_total, step)\n",
    "for size in sizes:\n",
    "    idx = np.random.randint(0, train_total, size)\n",
    "    X = X_train[idx, :, :].reshape(-1, X_train.shape[1] * X_train.shape[2])\n",
    "    y = y_train[idx]\n",
    "    \n",
    "    clf.fit(X, y)\n",
    "    test_score = get_score(clf, X_test, y_test)\n",
    "    test_scores.append(test_score)\n",
    "    val_scores.append(get_score(clf, X_val, y_val))\n",
    "    \n",
    "    print(f'> {size}: {test_score * 100:.3f}%')"
   ]
  },
  {
   "cell_type": "code",
   "execution_count": 92,
   "metadata": {},
   "outputs": [
    {
     "data": {
      "image/png": "[encoded data removed]",
      "text/plain": [
       "<Figure size 864x432 with 1 Axes>"
      ]
     },
     "metadata": {
      "needs_background": "light"
     },
     "output_type": "display_data"
    }
   ],
   "source": [
    "plt.figure(figsize=(12, 6))\n",
    "plt.plot(sizes, test_scores, 'b', label='Test Data')\n",
    "plt.plot(sizes, val_scores, 'r', label='Validation Data')\n",
    "plt.xlabel('Dataset Size')\n",
    "plt.ylabel('Score')\n",
    "plt.legend()\n",
    "plt.show()"
   ]
  }
 ],
 "metadata": {
  "kernelspec": {
   "display_name": "Python 3",
   "language": "python",
   "name": "python3"
  },
  "language_info": {
   "codemirror_mode": {
    "name": "ipython",
    "version": 3
   },
   "file_extension": ".py",
   "mimetype": "text/x-python",
   "name": "python",
   "nbconvert_exporter": "python",
   "pygments_lexer": "ipython3",
   "version": "3.7.4"
  }
 },
 "nbformat": 4,
 "nbformat_minor": 2
}
