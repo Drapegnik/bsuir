{
 "cells": [
  {
   "cell_type": "markdown",
   "metadata": {},
   "source": [
    "# ml lab9"
   ]
  },
  {
   "cell_type": "code",
   "execution_count": 1,
   "metadata": {},
   "outputs": [],
   "source": [
    "import numpy as np\n",
    "import matplotlib.pyplot as plt\n",
    "import scipy.io"
   ]
  },
  {
   "cell_type": "markdown",
   "metadata": {},
   "source": [
    "### 1. read `ex9_movies.mat` data"
   ]
  },
  {
   "cell_type": "code",
   "execution_count": 4,
   "metadata": {},
   "outputs": [
    {
     "data": {
      "text/plain": [
       "(1682, 943)"
      ]
     },
     "execution_count": 4,
     "metadata": {},
     "output_type": "execute_result"
    }
   ],
   "source": [
    "data = scipy.io.loadmat('data/ex9_movies.mat')\n",
    "Y = data['Y']\n",
    "R = data['R']\n",
    "\n",
    "num_movies, num_users = Y.shape\n",
    "num_movies, num_users"
   ]
  },
  {
   "cell_type": "markdown",
   "metadata": {},
   "source": [
    "### 2. number of featurs"
   ]
  },
  {
   "cell_type": "code",
   "execution_count": 7,
   "metadata": {},
   "outputs": [],
   "source": [
    "NUM_FEATURES = 10"
   ]
  },
  {
   "cell_type": "markdown",
   "metadata": {},
   "source": [
    "### 3-6. cost function + gradient"
   ]
  },
  {
   "cell_type": "code",
   "execution_count": 9,
   "metadata": {},
   "outputs": [],
   "source": [
    "def get_reg_term(X, theta, lambda_):\n",
    "    return (lambda_ / 2) * np.sum(np.square(X)) + (lambda_ / 2) * np.sum(np.square(theta))\n",
    "\n",
    "def calc_cost(X, Y, R, theta):\n",
    "    return (1 / 2) * np.sum(np.square((X.dot(theta.T) - Y) * R))\n",
    "    \n",
    "\n",
    "def cost_function(params, Y, R, num_users, num_movies, num_features, lambda_):\n",
    "    X = params[:num_movies * num_features].reshape(num_movies, num_features)\n",
    "    theta = params[num_movies * num_features:].reshape(num_users, num_features)\n",
    "    \n",
    "    X_grad = np.zeros(X.shape)\n",
    "    theta_grad = np.zeros(theta.shape)\n",
    "    \n",
    "    J = calc_cost(X, Y, R, theta) + get_reg_term(X, theta, lambda_)\n",
    "    \n",
    "    for i in range(num_movies):\n",
    "        idx = np.where(R[i, :] == 1)[0]\n",
    "        theta_i = theta[idx, :]\n",
    "        Y_i = Y[i, idx]\n",
    "        X_grad[i, :] = (X[i, :].dot(theta_i.T) - Y_i).dot(theta_i) + lambda_ * X[i, :]\n",
    "\n",
    "    for j in range(num_users):\n",
    "        idx = np.where(R[:, j] == 1)[0]\n",
    "        X_j = X[idx, :]\n",
    "        Y_j = Y[idx, j]\n",
    "        theta_grad[j, :] = (X_j.dot(theta[j, :]) - Y_j).dot(X_j) + lambda_ * theta[j, :]\n",
    "\n",
    "    grad = np.concatenate([X_grad.ravel(), theta_grad.ravel()])\n",
    "    return J, grad"
   ]
  },
  {
   "cell_type": "markdown",
   "metadata": {},
   "source": [
    "### 7. train model with `scipy`"
   ]
  },
  {
   "cell_type": "code",
   "execution_count": 13,
   "metadata": {},
   "outputs": [],
   "source": [
    "import scipy.optimize\n",
    "\n",
    "def train(Y, R, num_features = NUM_FEATURES, lambda_=0.0):\n",
    "    num_movies, num_users = Y.shape\n",
    "    initial_X = np.random.randn(num_movies, num_features)\n",
    "    initial_theta = np.random.randn(num_users, num_features)\n",
    "\n",
    "    cost_f = lambda x: cost_function(x, Y, R, num_users, num_movies, num_features, lambda_)\n",
    "    initial_params = np.concatenate([initial_X.ravel(), initial_theta.ravel()])\n",
    "    \n",
    "    # Truncated Newton Algorithm\n",
    "    params = scipy.optimize.minimize(cost_f, initial_params, method='TNC', jac=True).x\n",
    "    \n",
    "    idx = num_movies * num_features\n",
    "    theta = params[idx:].reshape(num_users, num_features)\n",
    "    X = params[:idx].reshape(num_movies, num_features)\n",
    "    \n",
    "    return X, theta"
   ]
  },
  {
   "cell_type": "code",
   "execution_count": 14,
   "metadata": {},
   "outputs": [
    {
     "data": {
      "text/plain": [
       "(array([[ 1.4438716 , -0.39240415, -0.43620424, ...,  0.52014848,\n",
       "          0.06694878, -0.16276768],\n",
       "        [ 0.84902957, -0.30851568, -0.27051436, ...,  0.23291525,\n",
       "          0.25925657,  0.20671643],\n",
       "        [ 0.63175791, -0.00927988,  0.52589506, ..., -0.47434056,\n",
       "          0.11256896, -0.05332482],\n",
       "        ...,\n",
       "        [ 0.12733217, -0.04512815,  0.0130063 , ..., -0.11735913,\n",
       "         -0.06047865, -0.11521279],\n",
       "        [ 0.13715983, -0.18520116,  0.00823545, ..., -0.05045468,\n",
       "          0.07466929,  0.04718126],\n",
       "        [ 0.25144985, -0.13913787,  0.03557105, ..., -0.03601842,\n",
       "         -0.014978  ,  0.02562142]]),\n",
       " array([[ 1.52693186, -0.75135164,  0.40942174, ...,  0.00504388,\n",
       "          0.40482936, -0.13868873],\n",
       "        [ 1.07152901, -0.35972028, -0.49640467, ..., -0.0479072 ,\n",
       "         -0.06016762,  0.18030974],\n",
       "        [ 0.88823404, -0.52252648, -0.34845443, ...,  0.32460284,\n",
       "          0.28596222, -0.31952627],\n",
       "        ...,\n",
       "        [ 1.23947958, -0.36239146, -0.16369162, ...,  0.03706565,\n",
       "          0.10257671, -0.19273455],\n",
       "        [ 1.10837565, -0.27744029, -0.41411452, ...,  0.05353096,\n",
       "          0.21606041,  0.76446523],\n",
       "        [ 0.578459  , -0.78164048, -0.27596438, ..., -0.34310137,\n",
       "         -0.17185575, -0.56158548]]))"
      ]
     },
     "execution_count": 14,
     "metadata": {},
     "output_type": "execute_result"
    }
   ],
   "source": [
    "train(Y, R, lambda_=10)"
   ]
  },
  {
   "cell_type": "markdown",
   "metadata": {},
   "source": [
    "### 8. add own ratings"
   ]
  },
  {
   "cell_type": "code",
   "execution_count": 26,
   "metadata": {},
   "outputs": [
    {
     "data": {
      "text/plain": [
       "1"
      ]
     },
     "execution_count": 26,
     "metadata": {},
     "output_type": "execute_result"
    }
   ],
   "source": [
    "MOVIES_IDS = {}\n",
    "MOVIES_NAMES = {}\n",
    "\n",
    "with open('data/movie_ids.txt',  encoding='ISO-8859-1') as file:\n",
    "    movies = file.readlines()\n",
    "\n",
    "    for movie in movies:\n",
    "        _id, _name = movie.split(' ', 1)\n",
    "        id = int(_id)\n",
    "        name = _name.strip()\n",
    "        MOVIES_IDS[name] = id\n",
    "        MOVIES_NAMES[id] = name\n",
    "\n",
    "MOVIES_IDS['Toy Story (1995)']"
   ]
  },
  {
   "cell_type": "code",
   "execution_count": 41,
   "metadata": {},
   "outputs": [
    {
     "data": {
      "text/plain": [
       "array([0., 5., 0., ..., 0., 0., 0.])"
      ]
     },
     "execution_count": 41,
     "metadata": {},
     "output_type": "execute_result"
    }
   ],
   "source": [
    "MY_RATINGS = {\n",
    "    'Toy Story (1995)': 5,\n",
    "    'Godfather, The (1972)': 2,\n",
    "    'Home Alone (1990)': 4,\n",
    "    'Pulp Fiction (1994)': 5,\n",
    "    'Star Wars (1977)': 5,\n",
    "    'Titanic (1997)': 2,\n",
    "    'Men in Black (1997)': 5,\n",
    "    'Turbo: A Power Rangers Movie (1997)': 1,\n",
    "    '101 Dalmatians (1996)': 3,\n",
    "    'Indiana Jones and the Last Crusade (1989)': 3,\n",
    "    'Back to the Future (1985)': 5,\n",
    "    'Wallace & Gromit: The Best of Aardman Animation (1996)': 3,\n",
    "    'Forrest Gump (1994)': 4,\n",
    "    'Taxi Driver (1976)': 3,\n",
    "}\n",
    "\n",
    "my_ratings_list = np.zeros(num_movies)\n",
    "\n",
    "for name, rate in MY_RATINGS.items():\n",
    "    id = MOVIES_IDS[name]\n",
    "    my_ratings_list[id] = rate\n",
    "    \n",
    "my_ratings_list"
   ]
  },
  {
   "cell_type": "markdown",
   "metadata": {},
   "source": [
    "### 9. get recommendations"
   ]
  },
  {
   "cell_type": "code",
   "execution_count": 42,
   "metadata": {},
   "outputs": [],
   "source": [
    "def normalize_ratings(Y, R):\n",
    "    n = Y.shape[0]\n",
    "    Ymean = np.zeros(n)\n",
    "    Ynorm = np.zeros(Y.shape)\n",
    "\n",
    "    for i in range(n):\n",
    "        idx = R[i, :] == 1\n",
    "        Ymean[i] = np.mean(Y[i, idx])\n",
    "        Ynorm[i, idx] = Y[i, idx] - Ymean[i]\n",
    "\n",
    "    return Ynorm, Ymean"
   ]
  },
  {
   "cell_type": "code",
   "execution_count": 47,
   "metadata": {},
   "outputs": [],
   "source": [
    "Y = np.hstack([my_ratings_list[:, None], Y])\n",
    "R = np.hstack([(my_ratings_list > 0)[:, None], R])\n",
    "Ynorm, Ymean = normalize_ratings(Y, R)\n",
    "\n",
    "X, theta = train(Ynorm, R, lambda_=10)\n",
    "p = np.dot(X, theta.T)"
   ]
  },
  {
   "cell_type": "code",
   "execution_count": 50,
   "metadata": {},
   "outputs": [
    {
     "name": "stdout",
     "output_type": "stream",
     "text": [
      "1.\t5.00\tCelluloid Closet, The (1995)\n",
      "2.\t5.00\tCity of Industry (1997)\n",
      "3.\t5.00\tTemptress Moon (Feng Yue) (1996)\n",
      "4.\t5.00\tSimple Wish, A (1997)\n",
      "5.\t5.00\tKim (1950)\n",
      "6.\t5.00\tYoung Guns II (1990)\n",
      "7.\t5.00\tEnfer, L' (1994)\n",
      "8.\t5.00\tUmbrellas of Cherbourg, The (Parapluies de Cherbourg, Les) (1964)\n",
      "9.\t5.00\tMargaret's Museum (1995)\n",
      "10.\t5.00\tGrosse Fatigue (1994)\n",
      "11.\t4.63\tMy Favorite Season (1993)\n",
      "12.\t4.58\tMidnight in the Garden of Good and Evil (1997)\n",
      "13.\t4.58\tIn the Name of the Father (1993)\n",
      "14.\t4.52\tSanta Clause, The (1994)\n",
      "15.\t4.51\tDeath in Brunswick (1991)\n",
      "16.\t4.50\tOf Human Bondage (1934)\n",
      "17.\t4.50\tDadetown (1995)\n",
      "18.\t4.49\tSome Like It Hot (1959)\n",
      "19.\t4.47\tTwister (1996)\n",
      "20.\t4.46\tMonty Python and the Holy Grail (1974)\n",
      "21.\t4.45\tHorseman on the Roof, The (Hussard sur le toit, Le) (1995)\n",
      "22.\t4.44\tSpy Hard (1996)\n",
      "23.\t4.41\tAmerican in Paris, An (1951)\n",
      "24.\t4.37\tRuby in Paradise (1993)\n",
      "25.\t4.37\tDances with Wolves (1990)\n",
      "26.\t4.37\tAround the World in 80 Days (1956)\n",
      "27.\t4.36\tTransformers: The Movie, The (1986)\n",
      "28.\t4.35\tPrincess Bride, The (1987)\n",
      "29.\t4.35\tMuppet Treasure Island (1996)\n",
      "30.\t4.35\tPhiladelphia Story, The (1940)\n"
     ]
    }
   ],
   "source": [
    "def print_predict(p, n=30):\n",
    "    predict = p[:, 0] + Ymean\n",
    "    idx = np.argsort(predict)[::-1]\n",
    "\n",
    "    for i in range(n):\n",
    "        print(f'{i+1}.\\t{predict[idx[i]]:.2f}\\t{MOVIES_NAMES[idx[i]]}')\n",
    "        \n",
    "print_predict(p)"
   ]
  },
  {
   "cell_type": "markdown",
   "metadata": {},
   "source": [
    "> Сложно оценить правильность рекомендаций так как я не смотрел много фильмов до 2000 года выпуска"
   ]
  },
  {
   "cell_type": "markdown",
   "metadata": {},
   "source": [
    "### 10. train with singular vectors"
   ]
  },
  {
   "cell_type": "code",
   "execution_count": 52,
   "metadata": {},
   "outputs": [],
   "source": [
    "from scipy.sparse.linalg import svds\n",
    "\n",
    "U, sigma, Vt = svds(Y, NUM_FEATURES)\n",
    "sigma = np.diag(sigma)\n",
    "p = U.dot(sigma).dot(Vt)"
   ]
  },
  {
   "cell_type": "code",
   "execution_count": 53,
   "metadata": {},
   "outputs": [
    {
     "name": "stdout",
     "output_type": "stream",
     "text": [
      "1.\t5.01\tYoung Guns II (1990)\n",
      "2.\t5.01\tCelluloid Closet, The (1995)\n",
      "3.\t5.00\tGrosse Fatigue (1994)\n",
      "4.\t5.00\tSimple Wish, A (1997)\n",
      "5.\t5.00\tKim (1950)\n",
      "6.\t5.00\tTemptress Moon (Feng Yue) (1996)\n",
      "7.\t5.00\tCity of Industry (1997)\n",
      "8.\t5.00\tUmbrellas of Cherbourg, The (Parapluies de Cherbourg, Les) (1964)\n",
      "9.\t5.00\tMargaret's Museum (1995)\n",
      "10.\t4.99\tEnfer, L' (1994)\n",
      "11.\t4.67\tI.Q. (1994)\n",
      "12.\t4.63\tMy Favorite Season (1993)\n",
      "13.\t4.59\tSpy Hard (1996)\n",
      "14.\t4.58\tMonty Python and the Holy Grail (1974)\n",
      "15.\t4.56\tMidnight in the Garden of Good and Evil (1997)\n",
      "16.\t4.53\tIn the Name of the Father (1993)\n",
      "17.\t4.52\tHorseman on the Roof, The (Hussard sur le toit, Le) (1995)\n",
      "18.\t4.52\tPrincess Bride, The (1987)\n",
      "19.\t4.51\tTwister (1996)\n",
      "20.\t4.51\tDadetown (1995)\n",
      "21.\t4.50\tOf Human Bondage (1934)\n",
      "22.\t4.50\tDeath in Brunswick (1991)\n",
      "23.\t4.48\tDelicatessen (1991)\n",
      "24.\t4.48\tSanta Clause, The (1994)\n",
      "25.\t4.47\tSome Like It Hot (1959)\n",
      "26.\t4.46\tSeven (Se7en) (1995)\n",
      "27.\t4.45\tSleepless in Seattle (1993)\n",
      "28.\t4.42\tStarship Troopers (1997)\n",
      "29.\t4.42\tEmpire Strikes Back, The (1980)\n",
      "30.\t4.42\tAnnie Hall (1977)\n"
     ]
    }
   ],
   "source": [
    "print_predict(p)"
   ]
  },
  {
   "cell_type": "markdown",
   "metadata": {},
   "source": [
    "> Результаты незначительно отличаются"
   ]
  },
  {
   "cell_type": "markdown",
   "metadata": {},
   "source": [
    "### 11. conclusions"
   ]
  },
  {
   "cell_type": "markdown",
   "metadata": {},
   "source": [
    "Была рассмотрена и реализована рекомендательная система с использованием алгоритма коллаборативной фильтрации.\n",
    "\n",
    "Получены рекомендации на основе собственных оценок.\n",
    "\n",
    "Также получены рекомендации с помощью сингулярного разложения матриц."
   ]
  },
  {
   "cell_type": "code",
   "execution_count": null,
   "metadata": {},
   "outputs": [],
   "source": []
  }
 ],
 "metadata": {
  "kernelspec": {
   "display_name": "Python 3",
   "language": "python",
   "name": "python3"
  },
  "language_info": {
   "codemirror_mode": {
    "name": "ipython",
    "version": 3
   },
   "file_extension": ".py",
   "mimetype": "text/x-python",
   "name": "python",
   "nbconvert_exporter": "python",
   "pygments_lexer": "ipython3",
   "version": "3.7.4"
  }
 },
 "nbformat": 4,
 "nbformat_minor": 2
}
