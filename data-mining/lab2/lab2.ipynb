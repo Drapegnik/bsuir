{
 "cells": [
  {
   "cell_type": "markdown",
   "metadata": {},
   "source": [
    "# data mining lab2"
   ]
  },
  {
   "cell_type": "markdown",
   "metadata": {},
   "source": [
    "> Тема: знакомство с программными средствами машинного обучения нейронных сетей.\n",
    "\n",
    "> Цель: знакомство с программным инструментарием `tensorflow` / `keras`"
   ]
  },
  {
   "cell_type": "markdown",
   "metadata": {},
   "source": [
    "### setup python "
   ]
  },
  {
   "cell_type": "markdown",
   "metadata": {},
   "source": [
    "> Я использую `python` на `macOS` через менеджер версий `pyenv` (https://github.com/pyenv/pyenv) вместе с виртуальным окружением `pyenv-virtualenv` (https://github.com/pyenv/pyenv-virtualenv). `pyenv` можно установить через `Homebrew` (https://brew.sh)"
   ]
  },
  {
   "cell_type": "markdown",
   "metadata": {},
   "source": [
    "```bash\n",
    "$ brew update\n",
    "$ brew install pyenv\n",
    "\n",
    "$ pyenv install 3.7.0 # install python\n",
    "\n",
    "$ pyenv virtualenv 3.7.0 bsuir # create virtualenv\n",
    "$ pyenv activate bsuir\n",
    "\n",
    "$ pip install tensorflow\n",
    "$ pip install keras\n",
    "```"
   ]
  },
  {
   "cell_type": "code",
   "execution_count": 12,
   "metadata": {},
   "outputs": [
    {
     "name": "stdout",
     "output_type": "stream",
     "text": [
      "tensorflow 2.0.0\n",
      "keras 2.3.1\n"
     ]
    }
   ],
   "source": [
    "import tensorflow as tf\n",
    "import keras\n",
    "\n",
    "print(tf.__name__, tf.__version__)\n",
    "print(keras.__name__, keras.__version__)"
   ]
  },
  {
   "cell_type": "markdown",
   "metadata": {},
   "source": [
    "### run example"
   ]
  },
  {
   "cell_type": "code",
   "execution_count": 14,
   "metadata": {},
   "outputs": [
    {
     "name": "stdout",
     "output_type": "stream",
     "text": [
      "Downloading data from https://www.cs.toronto.edu/~kriz/cifar-10-python.tar.gz\n",
      "170500096/170498071 [==============================] - 106s 1us/step\n",
      "x_train shape: (50000, 32, 32, 3)\n",
      "50000 train samples\n",
      "10000 test samples\n",
      "Using real-time data augmentation.\n",
      "Epoch 1/10\n",
      "1563/1563 [==============================] - 148s 95ms/step - loss: 1.8741 - accuracy: 0.3115 - val_loss: 1.5718 - val_accuracy: 0.4263\n",
      "Epoch 2/10\n",
      "1563/1563 [==============================] - 149s 95ms/step - loss: 1.5826 - accuracy: 0.4223 - val_loss: 1.4233 - val_accuracy: 0.4854\n",
      "Epoch 3/10\n",
      "1563/1563 [==============================] - 145s 93ms/step - loss: 1.4652 - accuracy: 0.4695 - val_loss: 1.3458 - val_accuracy: 0.5117\n",
      "Epoch 4/10\n",
      "1563/1563 [==============================] - 149s 95ms/step - loss: 1.3846 - accuracy: 0.5017 - val_loss: 1.2471 - val_accuracy: 0.5506\n",
      "Epoch 5/10\n",
      "1563/1563 [==============================] - 147s 94ms/step - loss: 1.3238 - accuracy: 0.5250 - val_loss: 1.1992 - val_accuracy: 0.5716\n",
      "Epoch 6/10\n",
      "1563/1563 [==============================] - 146s 94ms/step - loss: 1.2646 - accuracy: 0.5473 - val_loss: 1.1589 - val_accuracy: 0.5891\n",
      "Epoch 7/10\n",
      "1563/1563 [==============================] - 148s 95ms/step - loss: 1.2121 - accuracy: 0.5662 - val_loss: 1.0726 - val_accuracy: 0.6161\n",
      "Epoch 8/10\n",
      "1563/1563 [==============================] - 148s 95ms/step - loss: 1.1742 - accuracy: 0.5834 - val_loss: 1.1625 - val_accuracy: 0.5939\n",
      "Epoch 9/10\n",
      "1563/1563 [==============================] - 148s 95ms/step - loss: 1.1359 - accuracy: 0.5968 - val_loss: 0.9714 - val_accuracy: 0.6555\n",
      "Epoch 10/10\n",
      "1563/1563 [==============================] - 147s 94ms/step - loss: 1.1020 - accuracy: 0.6107 - val_loss: 1.0064 - val_accuracy: 0.6453\n",
      "Saved trained model at /Users/drapegnik/projects/bsuir/data-mining/lab2/saved_models/keras_cifar10_trained_model.h5 \n",
      "10000/10000 [==============================] - 4s 381us/step\n",
      "Test loss: 1.0064063249588013\n",
      "Test accuracy: 0.6452999711036682\n"
     ]
    }
   ],
   "source": [
    "from examples.cifar10_cnn import cifar_cnn\n",
    "\n",
    "cifar_cnn()"
   ]
  },
  {
   "cell_type": "markdown",
   "metadata": {},
   "source": [
    "### q&a"
   ]
  },
  {
   "cell_type": "markdown",
   "metadata": {},
   "source": [
    "1. Как задать модель нейронной сети. Какие есть интерфейсы и их параметры? Как задать весовые коэффициенты нейронной сети?"
   ]
  },
  {
   "cell_type": "code",
   "execution_count": 41,
   "metadata": {},
   "outputs": [],
   "source": [
    "import numpy as np\n",
    "from keras.models import Model\n",
    "from keras.layers import Input, Dense, Conv1D, SimpleRNN\n",
    "\n",
    "W = np.random.rand(2, 2)\n",
    "b = np.random.rand(2)\n",
    "\n",
    "visible = Input(shape=(2,))\n",
    "hidden = Dense(units=2, weights=[W, b])(visible) # layer with weights\n",
    "\n",
    "model = Model(inputs=visible, outputs=hidden)"
   ]
  },
  {
   "cell_type": "markdown",
   "metadata": {},
   "source": [
    "2. Как задать полносвязный слой нейронной сети?"
   ]
  },
  {
   "cell_type": "code",
   "execution_count": 42,
   "metadata": {},
   "outputs": [
    {
     "data": {
      "text/plain": [
       "<keras.layers.core.Dense at 0x14936f490>"
      ]
     },
     "execution_count": 42,
     "metadata": {},
     "output_type": "execute_result"
    }
   ],
   "source": [
    "Dense(units=32)"
   ]
  },
  {
   "cell_type": "markdown",
   "metadata": {},
   "source": [
    "3. Как задать свёрточный слой нейронной сети?"
   ]
  },
  {
   "cell_type": "code",
   "execution_count": 43,
   "metadata": {},
   "outputs": [
    {
     "data": {
      "text/plain": [
       "<keras.layers.convolutional.Conv1D at 0x14943f2d0>"
      ]
     },
     "execution_count": 43,
     "metadata": {},
     "output_type": "execute_result"
    }
   ],
   "source": [
    "Conv1D(kernel_size=200, filters=20)"
   ]
  },
  {
   "cell_type": "markdown",
   "metadata": {},
   "source": [
    "4. Какие есть средства для работы с рекуррентными нейросетями?"
   ]
  },
  {
   "cell_type": "code",
   "execution_count": 44,
   "metadata": {},
   "outputs": [
    {
     "data": {
      "text/plain": [
       "<keras.layers.recurrent.SimpleRNN at 0x1496d3450>"
      ]
     },
     "execution_count": 44,
     "metadata": {},
     "output_type": "execute_result"
    }
   ],
   "source": [
    "SimpleRNN(units=32)"
   ]
  },
  {
   "cell_type": "markdown",
   "metadata": {},
   "source": [
    "5. Как задать функцию активации нейронной сети и какие поддерживаются в `keras`?"
   ]
  },
  {
   "cell_type": "code",
   "execution_count": 59,
   "metadata": {},
   "outputs": [
    {
     "name": "stdout",
     "output_type": "stream",
     "text": [
      "Activation Functions:\n"
     ]
    },
    {
     "data": {
      "text/plain": [
       "['elu',\n",
       " 'exponential',\n",
       " 'get',\n",
       " 'hard_sigmoid',\n",
       " 'linear',\n",
       " 'relu',\n",
       " 'selu',\n",
       " 'serialize',\n",
       " 'sigmoid',\n",
       " 'softmax',\n",
       " 'softplus',\n",
       " 'softsign',\n",
       " 'tanh']"
      ]
     },
     "execution_count": 59,
     "metadata": {},
     "output_type": "execute_result"
    }
   ],
   "source": [
    "from inspect import getmembers, isfunction\n",
    "\n",
    "Dense(64, activation='tanh')\n",
    "\n",
    "print('Activation Functions:')\n",
    "[name for name, obj in getmembers(tf.keras.activations) if isfunction(obj) and name != 'deserialize']"
   ]
  },
  {
   "cell_type": "markdown",
   "metadata": {},
   "source": [
    "6. Чем отличается `linear` от `ReLU`, `softplus`?"
   ]
  },
  {
   "cell_type": "code",
   "execution_count": 83,
   "metadata": {},
   "outputs": [
    {
     "data": {
      "image/png": "[encoded data removed]",
      "text/plain": [
       "<Figure size 1008x288 with 3 Axes>"
      ]
     },
     "metadata": {
      "needs_background": "light"
     },
     "output_type": "display_data"
    }
   ],
   "source": [
    "import matplotlib.pyplot as plt\n",
    "from tensorflow.keras.activations import linear, relu, softplus\n",
    "\n",
    "x = np.linspace(-10, 10)\n",
    "fig, ax = plt.subplots(1, 3, sharey=True, figsize=(14, 4))\n",
    "\n",
    "for i, f in enumerate([linear, relu, softplus]):\n",
    "    ax[i].plot(x, f(x))\n",
    "    ax[i].set_title(f.__name__)\n",
    "\n",
    "plt.show()"
   ]
  },
  {
   "cell_type": "markdown",
   "metadata": {},
   "source": [
    "7. Как задать функцию ошибки / потерь нейронной сети? Как задать метод обучения нейронной сети?"
   ]
  },
  {
   "cell_type": "code",
   "execution_count": 85,
   "metadata": {},
   "outputs": [],
   "source": [
    "model.compile(loss='mean_squared_error', optimizer='sgd')"
   ]
  },
  {
   "cell_type": "markdown",
   "metadata": {},
   "source": [
    "8. Чем отличается `mean_squared_error` от `cosinus_proxmity`, по каким формулам они вычисляются? "
   ]
  },
  {
   "cell_type": "markdown",
   "metadata": {},
   "source": [
    "<img src=\"./out/mse-cp.png\" height=\"100px\" width=\"500px\" />"
   ]
  },
  {
   "cell_type": "markdown",
   "metadata": {},
   "source": [
    "> Евклидово расстояние против косиносувого"
   ]
  },
  {
   "cell_type": "markdown",
   "metadata": {},
   "source": [
    "9. Чем отличается `SGD` от `rprop`, `Adadelta`, `Adam`; `nesterov` от `momentum`?"
   ]
  },
  {
   "cell_type": "markdown",
   "metadata": {},
   "source": [
    "Stochastic gradient descent optimizer.\n",
    "\n",
    "Includes support for momentum, learning rate decay, and Nesterov momentum.\n",
    "\n",
    "`Rprop`, `Adadelta`, `Adam` - это методы оптимизации `SGD` c адаптивным шагом обучения. Они адаптирует скорость обучения к параметрам, выполняя небольшие обновления."
   ]
  },
  {
   "cell_type": "code",
   "execution_count": 105,
   "metadata": {},
   "outputs": [
    {
     "data": {
      "text/plain": [
       "<keras.optimizers.Adam at 0x14a7d3090>"
      ]
     },
     "execution_count": 105,
     "metadata": {},
     "output_type": "execute_result"
    }
   ],
   "source": [
    "keras.optimizers.SGD(learning_rate=0.01, momentum=0.0, nesterov=False)\n",
    "keras.optimizers.Adadelta(learning_rate=1.0, rho=0.95)\n",
    "keras.optimizers.Adam(learning_rate=0.001, beta_1=0.9, beta_2=0.999, amsgrad=False)"
   ]
  },
  {
   "cell_type": "markdown",
   "metadata": {},
   "source": [
    "10. Как указать обучающую выборку?"
   ]
  },
  {
   "cell_type": "code",
   "execution_count": null,
   "metadata": {},
   "outputs": [],
   "source": [
    "train_data = np.random.random((2, 2))\n",
    "\n",
    "model.fit(train_data, epochs=10)"
   ]
  },
  {
   "cell_type": "markdown",
   "metadata": {},
   "source": [
    "### Список Источников"
   ]
  },
  {
   "cell_type": "markdown",
   "metadata": {},
   "source": [
    "1. Оф. сайт `Python`. — Электронный ресурс. — Режим доступа: https://www.python.org/ — Дата доступа: 20.11.2019.\n",
    "2. Документация пакетного менеджера `pyenv` — Электронный ресурс. — Режим доступа: https://github.com/pyenv/pyenv/ — Дата доступа: 20.11.2019.\n",
    "3. Оф. сайт `PIP`. — Электронный ресурс. — Режим доступа: https://pypi.org/project/pip/ — Дата доступа: 20.11.2019.\n",
    "4. Документация виртуальной среды `pyenv-virtualenv`. — Электронный ресурс. — Режим доступа: https://github.com/pyenv/pyenv-virtualenv — Дата доступа: 20.11.2019.\n",
    "5. Пример глубокого обучения с помощью библиотеки `Keras`. — Электронный ресурс. — Режим доступа: https://keras.io/ — Дата доступа: 20.11.2019.\n",
    "6. Документация библиотеки для построения графиков `Matplotlib`. — Электронный ресурс. — Режим доступа: https://matplotlib.org/ — Дата доступа: 20.11.2019."
   ]
  }
 ],
 "metadata": {
  "kernelspec": {
   "display_name": "Python 3",
   "language": "python",
   "name": "python3"
  },
  "language_info": {
   "codemirror_mode": {
    "name": "ipython",
    "version": 3
   },
   "file_extension": ".py",
   "mimetype": "text/x-python",
   "name": "python",
   "nbconvert_exporter": "python",
   "pygments_lexer": "ipython3",
   "version": "3.7.4"
  }
 },
 "nbformat": 4,
 "nbformat_minor": 2
}
